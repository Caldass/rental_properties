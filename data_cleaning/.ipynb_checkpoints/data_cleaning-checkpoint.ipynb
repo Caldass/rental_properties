{
 "cells": [
  {
   "cell_type": "code",
   "execution_count": 1,
   "metadata": {},
   "outputs": [],
   "source": [
    "import pandas as pd\n",
    "import numpy as np\n",
    "from geopy.extra.rate_limiter import RateLimiter\n",
    "from geopy.geocoders import Nominatim\n",
    "from geopy.exc import GeocoderTimedOut\n",
    "import glob\n",
    "import geopandas as gpd\n",
    "from geopy.distance import geodesic\n",
    "from geopy import Point"
   ]
  },
  {
   "cell_type": "markdown",
   "metadata": {},
   "source": [
    "# Grouping scraped datasets"
   ]
  },
  {
   "cell_type": "code",
   "execution_count": 2,
   "metadata": {},
   "outputs": [
    {
     "data": {
      "text/html": [
       "<div>\n",
       "<style scoped>\n",
       "    .dataframe tbody tr th:only-of-type {\n",
       "        vertical-align: middle;\n",
       "    }\n",
       "\n",
       "    .dataframe tbody tr th {\n",
       "        vertical-align: top;\n",
       "    }\n",
       "\n",
       "    .dataframe thead th {\n",
       "        text-align: right;\n",
       "    }\n",
       "</style>\n",
       "<table border=\"1\" class=\"dataframe\">\n",
       "  <thead>\n",
       "    <tr style=\"text-align: right;\">\n",
       "      <th></th>\n",
       "      <th>title</th>\n",
       "      <th>address</th>\n",
       "      <th>area</th>\n",
       "      <th>bathrooms</th>\n",
       "      <th>bedrooms</th>\n",
       "      <th>parking_spots</th>\n",
       "      <th>extra_contents</th>\n",
       "      <th>rent</th>\n",
       "      <th>fee</th>\n",
       "    </tr>\n",
       "  </thead>\n",
       "  <tbody>\n",
       "    <tr>\n",
       "      <th>0</th>\n",
       "      <td>Apartamento com 3 Quartos para Aluguel, 228m²</td>\n",
       "      <td>Rua dos Navegantes, 215 - Boa Viagem, Recife - PE</td>\n",
       "      <td>228</td>\n",
       "      <td>4</td>\n",
       "      <td>3</td>\n",
       "      <td>1</td>\n",
       "      <td>NaN</td>\n",
       "      <td>6.000</td>\n",
       "      <td>NaN</td>\n",
       "    </tr>\n",
       "    <tr>\n",
       "      <th>1</th>\n",
       "      <td>Apartamento com 4 Quartos para Aluguel, 112m²</td>\n",
       "      <td>Rua Baltazar Passos, 260 - Boa Viagem, Recife ...</td>\n",
       "      <td>112</td>\n",
       "      <td>4</td>\n",
       "      <td>4</td>\n",
       "      <td>2</td>\n",
       "      <td>['Piscina', 'Elevador', 'Academia', 'Churrasqu...</td>\n",
       "      <td>3.500</td>\n",
       "      <td>NaN</td>\n",
       "    </tr>\n",
       "    <tr>\n",
       "      <th>2</th>\n",
       "      <td>Apartamento com 4 Quartos para Aluguel, 160m²</td>\n",
       "      <td>Avenida Boa Viagem, 5822 - Boa Viagem, Recife ...</td>\n",
       "      <td>160</td>\n",
       "      <td>5</td>\n",
       "      <td>4</td>\n",
       "      <td>3</td>\n",
       "      <td>['Piscina', 'Elevador', 'Academia', 'Condomíni...</td>\n",
       "      <td>5.000</td>\n",
       "      <td>R$ 1.232</td>\n",
       "    </tr>\n",
       "    <tr>\n",
       "      <th>3</th>\n",
       "      <td>Apartamento com 3 Quartos para Aluguel, 75m²</td>\n",
       "      <td>Tamarineira, Recife - PE</td>\n",
       "      <td>75</td>\n",
       "      <td>3</td>\n",
       "      <td>3</td>\n",
       "      <td>2</td>\n",
       "      <td>['Piscina', 'Elevador', 'Academia', 'Playgroun...</td>\n",
       "      <td>3.200</td>\n",
       "      <td>NaN</td>\n",
       "    </tr>\n",
       "    <tr>\n",
       "      <th>4</th>\n",
       "      <td>Apartamento com 5 Quartos para Aluguel, 200m²</td>\n",
       "      <td>Rua Setúbal, 278 - Boa Viagem, Recife - PE</td>\n",
       "      <td>200</td>\n",
       "      <td>5</td>\n",
       "      <td>5</td>\n",
       "      <td>3</td>\n",
       "      <td>['Elevador', 'Ar-condicionado', 'Salão de fest...</td>\n",
       "      <td>6.000</td>\n",
       "      <td>NaN</td>\n",
       "    </tr>\n",
       "  </tbody>\n",
       "</table>\n",
       "</div>"
      ],
      "text/plain": [
       "                                           title  \\\n",
       "0  Apartamento com 3 Quartos para Aluguel, 228m²   \n",
       "1  Apartamento com 4 Quartos para Aluguel, 112m²   \n",
       "2  Apartamento com 4 Quartos para Aluguel, 160m²   \n",
       "3   Apartamento com 3 Quartos para Aluguel, 75m²   \n",
       "4  Apartamento com 5 Quartos para Aluguel, 200m²   \n",
       "\n",
       "                                             address  area bathrooms  \\\n",
       "0  Rua dos Navegantes, 215 - Boa Viagem, Recife - PE   228         4   \n",
       "1  Rua Baltazar Passos, 260 - Boa Viagem, Recife ...   112         4   \n",
       "2  Avenida Boa Viagem, 5822 - Boa Viagem, Recife ...   160         5   \n",
       "3                           Tamarineira, Recife - PE    75         3   \n",
       "4         Rua Setúbal, 278 - Boa Viagem, Recife - PE   200         5   \n",
       "\n",
       "   bedrooms parking_spots                                     extra_contents  \\\n",
       "0         3             1                                                NaN   \n",
       "1         4             2  ['Piscina', 'Elevador', 'Academia', 'Churrasqu...   \n",
       "2         4             3  ['Piscina', 'Elevador', 'Academia', 'Condomíni...   \n",
       "3         3             2  ['Piscina', 'Elevador', 'Academia', 'Playgroun...   \n",
       "4         5             3  ['Elevador', 'Ar-condicionado', 'Salão de fest...   \n",
       "\n",
       "    rent           fee  \n",
       "0  6.000           NaN  \n",
       "1  3.500           NaN  \n",
       "2  5.000    R$ 1.232    \n",
       "3  3.200           NaN  \n",
       "4  6.000           NaN  "
      ]
     },
     "execution_count": 2,
     "metadata": {},
     "output_type": "execute_result"
    }
   ],
   "source": [
    "path = '../scraping/datasets_scraped'\n",
    "all_files = glob.glob(path + \"/*.csv\")\n",
    "\n",
    "li = []\n",
    "\n",
    "for filename in all_files:\n",
    "    frame = pd.read_csv(filename, index_col=None, header=0, decimal = ',')\n",
    "    li.append(frame)\n",
    "\n",
    "#concatenating all datasets and removing duplicate rows (there might be duplicate posts)\n",
    "df = pd.concat(li, axis=0, ignore_index=True)\n",
    "df.drop_duplicates(inplace = True)\n",
    "\n",
    "df.head()"
   ]
  },
  {
   "cell_type": "code",
   "execution_count": 3,
   "metadata": {},
   "outputs": [
    {
     "data": {
      "text/plain": [
       "(3870, 9)"
      ]
     },
     "execution_count": 3,
     "metadata": {},
     "output_type": "execute_result"
    }
   ],
   "source": [
    "df.shape"
   ]
  },
  {
   "cell_type": "code",
   "execution_count": 4,
   "metadata": {},
   "outputs": [
    {
     "name": "stdout",
     "output_type": "stream",
     "text": [
      "<class 'pandas.core.frame.DataFrame'>\n",
      "Int64Index: 3870 entries, 0 to 22858\n",
      "Data columns (total 9 columns):\n",
      " #   Column          Non-Null Count  Dtype \n",
      "---  ------          --------------  ----- \n",
      " 0   title           3870 non-null   object\n",
      " 1   address         3870 non-null   object\n",
      " 2   area            3870 non-null   int64 \n",
      " 3   bathrooms       3870 non-null   object\n",
      " 4   bedrooms        3870 non-null   int64 \n",
      " 5   parking_spots   3870 non-null   object\n",
      " 6   extra_contents  3282 non-null   object\n",
      " 7   rent            3870 non-null   object\n",
      " 8   fee             1168 non-null   object\n",
      "dtypes: int64(2), object(7)\n",
      "memory usage: 302.3+ KB\n"
     ]
    }
   ],
   "source": [
    "df.info()"
   ]
  },
  {
   "cell_type": "markdown",
   "metadata": {},
   "source": [
    "# Data cleaning"
   ]
  },
  {
   "cell_type": "code",
   "execution_count": 5,
   "metadata": {},
   "outputs": [
    {
     "data": {
      "text/plain": [
       "title                0\n",
       "address              0\n",
       "area                 0\n",
       "bathrooms            0\n",
       "bedrooms             0\n",
       "parking_spots        0\n",
       "extra_contents     588\n",
       "rent                 0\n",
       "fee               2702\n",
       "dtype: int64"
      ]
     },
     "execution_count": 5,
     "metadata": {},
     "output_type": "execute_result"
    }
   ],
   "source": [
    "#checking null values in columns\n",
    "df.isna().sum()"
   ]
  },
  {
   "cell_type": "markdown",
   "metadata": {},
   "source": [
    "Here we'll have two different approaches.\n",
    "\n",
    "- For the *extra_contents* column we've already filled the null values with a empty list. That way in the EDA we'll be able to turn those lists into columns. \n",
    "\n",
    "- For the *fee* column we'll fill the NAs with 0, most of the posts that do not contain a fee description also say that the value is already contained in rent."
   ]
  },
  {
   "cell_type": "code",
   "execution_count": 6,
   "metadata": {},
   "outputs": [
    {
     "name": "stderr",
     "output_type": "stream",
     "text": [
      "C:\\Users\\arthu\\AppData\\Roaming\\Python\\Python37\\site-packages\\ipykernel_launcher.py:2: FutureWarning: The default value of regex will change from True to False in a future version. In addition, single character regular expressions will*not* be treated as literal strings when regex=True.\n",
      "  \n",
      "C:\\Users\\arthu\\AppData\\Roaming\\Python\\Python37\\site-packages\\ipykernel_launcher.py:17: FutureWarning: The default value of regex will change from True to False in a future version. In addition, single character regular expressions will*not* be treated as literal strings when regex=True.\n"
     ]
    }
   ],
   "source": [
    "#removing currency simbols, filling NAs with 0 and turning column into integer\n",
    "df['fee'] = df['fee'].str.replace('.','').str.replace('$','').str.replace('R','').str.strip().astype(float)\n",
    "df['fee'] = df.fee.fillna(0)\n",
    "df['fee'] = df.fee.astype(int)\n",
    "\n",
    "#turning into integers columns and replacing strings\n",
    "df['bathrooms'] = df.bathrooms.str.replace('--', '0')\n",
    "df['bathrooms'] = df.bathrooms.astype(str).astype(int)\n",
    "df['parking_spots'] = df.parking_spots.str.replace('--', '0')\n",
    "df['parking_spots'] = df.parking_spots.astype(str).astype(int)\n",
    "\n",
    "#filling nas with a empty list and turning string list into list\n",
    "df.extra_contents.fillna('[]', inplace = True)\n",
    "df[\"extra_contents\"] = df[\"extra_contents\"].apply(eval)\n",
    "\n",
    "#turning column into integer\n",
    "df['rent'] = df['rent'].str.replace('.','')\n",
    "df['rent'] = df.rent.astype(int)"
   ]
  },
  {
   "cell_type": "code",
   "execution_count": 7,
   "metadata": {},
   "outputs": [
    {
     "data": {
      "text/html": [
       "<div>\n",
       "<style scoped>\n",
       "    .dataframe tbody tr th:only-of-type {\n",
       "        vertical-align: middle;\n",
       "    }\n",
       "\n",
       "    .dataframe tbody tr th {\n",
       "        vertical-align: top;\n",
       "    }\n",
       "\n",
       "    .dataframe thead th {\n",
       "        text-align: right;\n",
       "    }\n",
       "</style>\n",
       "<table border=\"1\" class=\"dataframe\">\n",
       "  <thead>\n",
       "    <tr style=\"text-align: right;\">\n",
       "      <th></th>\n",
       "      <th>title</th>\n",
       "      <th>address</th>\n",
       "      <th>area</th>\n",
       "      <th>bathrooms</th>\n",
       "      <th>bedrooms</th>\n",
       "      <th>parking_spots</th>\n",
       "      <th>extra_contents</th>\n",
       "      <th>rent</th>\n",
       "      <th>fee</th>\n",
       "    </tr>\n",
       "  </thead>\n",
       "  <tbody>\n",
       "    <tr>\n",
       "      <th>0</th>\n",
       "      <td>Apartamento com 3 Quartos para Aluguel, 228m²</td>\n",
       "      <td>Rua dos Navegantes, 215 - Boa Viagem, Recife - PE</td>\n",
       "      <td>228</td>\n",
       "      <td>4</td>\n",
       "      <td>3</td>\n",
       "      <td>1</td>\n",
       "      <td>[]</td>\n",
       "      <td>6000</td>\n",
       "      <td>0</td>\n",
       "    </tr>\n",
       "    <tr>\n",
       "      <th>1</th>\n",
       "      <td>Apartamento com 4 Quartos para Aluguel, 112m²</td>\n",
       "      <td>Rua Baltazar Passos, 260 - Boa Viagem, Recife ...</td>\n",
       "      <td>112</td>\n",
       "      <td>4</td>\n",
       "      <td>4</td>\n",
       "      <td>2</td>\n",
       "      <td>[Piscina, Elevador, Academia, Churrasqueira, P...</td>\n",
       "      <td>3500</td>\n",
       "      <td>0</td>\n",
       "    </tr>\n",
       "    <tr>\n",
       "      <th>2</th>\n",
       "      <td>Apartamento com 4 Quartos para Aluguel, 160m²</td>\n",
       "      <td>Avenida Boa Viagem, 5822 - Boa Viagem, Recife ...</td>\n",
       "      <td>160</td>\n",
       "      <td>5</td>\n",
       "      <td>4</td>\n",
       "      <td>3</td>\n",
       "      <td>[Piscina, Elevador, Academia, Condomínio fecha...</td>\n",
       "      <td>5000</td>\n",
       "      <td>1232</td>\n",
       "    </tr>\n",
       "    <tr>\n",
       "      <th>3</th>\n",
       "      <td>Apartamento com 3 Quartos para Aluguel, 75m²</td>\n",
       "      <td>Tamarineira, Recife - PE</td>\n",
       "      <td>75</td>\n",
       "      <td>3</td>\n",
       "      <td>3</td>\n",
       "      <td>2</td>\n",
       "      <td>[Piscina, Elevador, Academia, Playground, Salã...</td>\n",
       "      <td>3200</td>\n",
       "      <td>0</td>\n",
       "    </tr>\n",
       "    <tr>\n",
       "      <th>4</th>\n",
       "      <td>Apartamento com 5 Quartos para Aluguel, 200m²</td>\n",
       "      <td>Rua Setúbal, 278 - Boa Viagem, Recife - PE</td>\n",
       "      <td>200</td>\n",
       "      <td>5</td>\n",
       "      <td>5</td>\n",
       "      <td>3</td>\n",
       "      <td>[Elevador, Ar-condicionado, Salão de festas, A...</td>\n",
       "      <td>6000</td>\n",
       "      <td>0</td>\n",
       "    </tr>\n",
       "  </tbody>\n",
       "</table>\n",
       "</div>"
      ],
      "text/plain": [
       "                                           title  \\\n",
       "0  Apartamento com 3 Quartos para Aluguel, 228m²   \n",
       "1  Apartamento com 4 Quartos para Aluguel, 112m²   \n",
       "2  Apartamento com 4 Quartos para Aluguel, 160m²   \n",
       "3   Apartamento com 3 Quartos para Aluguel, 75m²   \n",
       "4  Apartamento com 5 Quartos para Aluguel, 200m²   \n",
       "\n",
       "                                             address  area  bathrooms  \\\n",
       "0  Rua dos Navegantes, 215 - Boa Viagem, Recife - PE   228          4   \n",
       "1  Rua Baltazar Passos, 260 - Boa Viagem, Recife ...   112          4   \n",
       "2  Avenida Boa Viagem, 5822 - Boa Viagem, Recife ...   160          5   \n",
       "3                           Tamarineira, Recife - PE    75          3   \n",
       "4         Rua Setúbal, 278 - Boa Viagem, Recife - PE   200          5   \n",
       "\n",
       "   bedrooms  parking_spots                                     extra_contents  \\\n",
       "0         3              1                                                 []   \n",
       "1         4              2  [Piscina, Elevador, Academia, Churrasqueira, P...   \n",
       "2         4              3  [Piscina, Elevador, Academia, Condomínio fecha...   \n",
       "3         3              2  [Piscina, Elevador, Academia, Playground, Salã...   \n",
       "4         5              3  [Elevador, Ar-condicionado, Salão de festas, A...   \n",
       "\n",
       "   rent   fee  \n",
       "0  6000     0  \n",
       "1  3500     0  \n",
       "2  5000  1232  \n",
       "3  3200     0  \n",
       "4  6000     0  "
      ]
     },
     "execution_count": 7,
     "metadata": {},
     "output_type": "execute_result"
    }
   ],
   "source": [
    "df.head()"
   ]
  },
  {
   "cell_type": "code",
   "execution_count": 8,
   "metadata": {},
   "outputs": [
    {
     "data": {
      "text/html": [
       "<div>\n",
       "<style scoped>\n",
       "    .dataframe tbody tr th:only-of-type {\n",
       "        vertical-align: middle;\n",
       "    }\n",
       "\n",
       "    .dataframe tbody tr th {\n",
       "        vertical-align: top;\n",
       "    }\n",
       "\n",
       "    .dataframe thead th {\n",
       "        text-align: right;\n",
       "    }\n",
       "</style>\n",
       "<table border=\"1\" class=\"dataframe\">\n",
       "  <thead>\n",
       "    <tr style=\"text-align: right;\">\n",
       "      <th></th>\n",
       "      <th>title</th>\n",
       "      <th>address</th>\n",
       "      <th>area</th>\n",
       "      <th>bathrooms</th>\n",
       "      <th>bedrooms</th>\n",
       "      <th>parking_spots</th>\n",
       "      <th>extra_contents</th>\n",
       "      <th>rent</th>\n",
       "      <th>fee</th>\n",
       "    </tr>\n",
       "  </thead>\n",
       "  <tbody>\n",
       "    <tr>\n",
       "      <th>1951</th>\n",
       "      <td>Apartamento com 2 Quartos para Aluguel, 10m²</td>\n",
       "      <td>Estrada das Ubáias, 127 - Casa Amarela, Recife...</td>\n",
       "      <td>10</td>\n",
       "      <td>1</td>\n",
       "      <td>2</td>\n",
       "      <td>1</td>\n",
       "      <td>[Elevador, Cozinha, Interfone]</td>\n",
       "      <td>270000</td>\n",
       "      <td>0</td>\n",
       "    </tr>\n",
       "    <tr>\n",
       "      <th>11362</th>\n",
       "      <td>Apartamento com 2 Quartos para Aluguel, 70m²</td>\n",
       "      <td>Torre, Recife - PE</td>\n",
       "      <td>70</td>\n",
       "      <td>2</td>\n",
       "      <td>2</td>\n",
       "      <td>1</td>\n",
       "      <td>[]</td>\n",
       "      <td>180000</td>\n",
       "      <td>0</td>\n",
       "    </tr>\n",
       "    <tr>\n",
       "      <th>14249</th>\n",
       "      <td>Casa com 5 Quartos para Aluguel, 1000m²</td>\n",
       "      <td>Boa Viagem, Recife - PE</td>\n",
       "      <td>1000</td>\n",
       "      <td>6</td>\n",
       "      <td>5</td>\n",
       "      <td>12</td>\n",
       "      <td>[Mais de um andar]</td>\n",
       "      <td>50000</td>\n",
       "      <td>0</td>\n",
       "    </tr>\n",
       "    <tr>\n",
       "      <th>13181</th>\n",
       "      <td>Casa com 5 Quartos para Aluguel, 1000m²</td>\n",
       "      <td>Boa Viagem, Recife - PE</td>\n",
       "      <td>1000</td>\n",
       "      <td>6</td>\n",
       "      <td>5</td>\n",
       "      <td>12</td>\n",
       "      <td>[Mais de um andar]</td>\n",
       "      <td>49999</td>\n",
       "      <td>0</td>\n",
       "    </tr>\n",
       "    <tr>\n",
       "      <th>486</th>\n",
       "      <td>Apartamento com 4 Quartos à Venda/Aluguel 450m²</td>\n",
       "      <td>Avenida Boa Viagem, 2530 - Boa Viagem, Recife ...</td>\n",
       "      <td>450</td>\n",
       "      <td>5</td>\n",
       "      <td>4</td>\n",
       "      <td>5</td>\n",
       "      <td>[Mobiliado, Elevador, Varanda, Condomínio fech...</td>\n",
       "      <td>45000</td>\n",
       "      <td>4400</td>\n",
       "    </tr>\n",
       "    <tr>\n",
       "      <th>...</th>\n",
       "      <td>...</td>\n",
       "      <td>...</td>\n",
       "      <td>...</td>\n",
       "      <td>...</td>\n",
       "      <td>...</td>\n",
       "      <td>...</td>\n",
       "      <td>...</td>\n",
       "      <td>...</td>\n",
       "      <td>...</td>\n",
       "    </tr>\n",
       "    <tr>\n",
       "      <th>3116</th>\n",
       "      <td>Apartamento com  Quarto para Aluguel, 31m²</td>\n",
       "      <td>Boa Vista, Recife - PE</td>\n",
       "      <td>31</td>\n",
       "      <td>1</td>\n",
       "      <td>1</td>\n",
       "      <td>0</td>\n",
       "      <td>[]</td>\n",
       "      <td>450</td>\n",
       "      <td>230</td>\n",
       "    </tr>\n",
       "    <tr>\n",
       "      <th>650</th>\n",
       "      <td>Apartamento com 2 Quartos para Aluguel, 30m²</td>\n",
       "      <td>Rua Engenho Água Clara, 94 - Imbiribeira, Reci...</td>\n",
       "      <td>30</td>\n",
       "      <td>1</td>\n",
       "      <td>2</td>\n",
       "      <td>0</td>\n",
       "      <td>[]</td>\n",
       "      <td>440</td>\n",
       "      <td>0</td>\n",
       "    </tr>\n",
       "    <tr>\n",
       "      <th>14949</th>\n",
       "      <td>Casa com  Quarto para Aluguel, 30m²</td>\n",
       "      <td>Rua Matoso da Câmara, 106 - Tejipió, Recife - PE</td>\n",
       "      <td>30</td>\n",
       "      <td>1</td>\n",
       "      <td>1</td>\n",
       "      <td>0</td>\n",
       "      <td>[]</td>\n",
       "      <td>360</td>\n",
       "      <td>0</td>\n",
       "    </tr>\n",
       "    <tr>\n",
       "      <th>14414</th>\n",
       "      <td>Apartamento com  Quarto para Aluguel, 40m²</td>\n",
       "      <td>Sancho, Recife - PE</td>\n",
       "      <td>40</td>\n",
       "      <td>1</td>\n",
       "      <td>1</td>\n",
       "      <td>0</td>\n",
       "      <td>[Cozinha]</td>\n",
       "      <td>350</td>\n",
       "      <td>0</td>\n",
       "    </tr>\n",
       "    <tr>\n",
       "      <th>2184</th>\n",
       "      <td>Apartamento com  Quarto para Aluguel, 28m²</td>\n",
       "      <td>Rua Padre Bernardino Pessoa, 408 - Boa Viagem,...</td>\n",
       "      <td>28</td>\n",
       "      <td>1</td>\n",
       "      <td>1</td>\n",
       "      <td>1</td>\n",
       "      <td>[Mobiliado, Piscina, Elevador, Ar-condicionado...</td>\n",
       "      <td>100</td>\n",
       "      <td>0</td>\n",
       "    </tr>\n",
       "  </tbody>\n",
       "</table>\n",
       "<p>3870 rows × 9 columns</p>\n",
       "</div>"
      ],
      "text/plain": [
       "                                                 title  \\\n",
       "1951      Apartamento com 2 Quartos para Aluguel, 10m²   \n",
       "11362     Apartamento com 2 Quartos para Aluguel, 70m²   \n",
       "14249          Casa com 5 Quartos para Aluguel, 1000m²   \n",
       "13181          Casa com 5 Quartos para Aluguel, 1000m²   \n",
       "486    Apartamento com 4 Quartos à Venda/Aluguel 450m²   \n",
       "...                                                ...   \n",
       "3116        Apartamento com  Quarto para Aluguel, 31m²   \n",
       "650       Apartamento com 2 Quartos para Aluguel, 30m²   \n",
       "14949              Casa com  Quarto para Aluguel, 30m²   \n",
       "14414       Apartamento com  Quarto para Aluguel, 40m²   \n",
       "2184        Apartamento com  Quarto para Aluguel, 28m²   \n",
       "\n",
       "                                                 address  area  bathrooms  \\\n",
       "1951   Estrada das Ubáias, 127 - Casa Amarela, Recife...    10          1   \n",
       "11362                                 Torre, Recife - PE    70          2   \n",
       "14249                            Boa Viagem, Recife - PE  1000          6   \n",
       "13181                            Boa Viagem, Recife - PE  1000          6   \n",
       "486    Avenida Boa Viagem, 2530 - Boa Viagem, Recife ...   450          5   \n",
       "...                                                  ...   ...        ...   \n",
       "3116                              Boa Vista, Recife - PE    31          1   \n",
       "650    Rua Engenho Água Clara, 94 - Imbiribeira, Reci...    30          1   \n",
       "14949   Rua Matoso da Câmara, 106 - Tejipió, Recife - PE    30          1   \n",
       "14414                                Sancho, Recife - PE    40          1   \n",
       "2184   Rua Padre Bernardino Pessoa, 408 - Boa Viagem,...    28          1   \n",
       "\n",
       "       bedrooms  parking_spots  \\\n",
       "1951          2              1   \n",
       "11362         2              1   \n",
       "14249         5             12   \n",
       "13181         5             12   \n",
       "486           4              5   \n",
       "...         ...            ...   \n",
       "3116          1              0   \n",
       "650           2              0   \n",
       "14949         1              0   \n",
       "14414         1              0   \n",
       "2184          1              1   \n",
       "\n",
       "                                          extra_contents    rent   fee  \n",
       "1951                      [Elevador, Cozinha, Interfone]  270000     0  \n",
       "11362                                                 []  180000     0  \n",
       "14249                                 [Mais de um andar]   50000     0  \n",
       "13181                                 [Mais de um andar]   49999     0  \n",
       "486    [Mobiliado, Elevador, Varanda, Condomínio fech...   45000  4400  \n",
       "...                                                  ...     ...   ...  \n",
       "3116                                                  []     450   230  \n",
       "650                                                   []     440     0  \n",
       "14949                                                 []     360     0  \n",
       "14414                                          [Cozinha]     350     0  \n",
       "2184   [Mobiliado, Piscina, Elevador, Ar-condicionado...     100     0  \n",
       "\n",
       "[3870 rows x 9 columns]"
      ]
     },
     "execution_count": 8,
     "metadata": {},
     "output_type": "execute_result"
    }
   ],
   "source": [
    "df.sort_values(by = 'rent', ascending = False)"
   ]
  },
  {
   "cell_type": "code",
   "execution_count": 9,
   "metadata": {},
   "outputs": [
    {
     "name": "stdout",
     "output_type": "stream",
     "text": [
      "<class 'pandas.core.frame.DataFrame'>\n",
      "Int64Index: 3870 entries, 0 to 22858\n",
      "Data columns (total 9 columns):\n",
      " #   Column          Non-Null Count  Dtype \n",
      "---  ------          --------------  ----- \n",
      " 0   title           3870 non-null   object\n",
      " 1   address         3870 non-null   object\n",
      " 2   area            3870 non-null   int64 \n",
      " 3   bathrooms       3870 non-null   int32 \n",
      " 4   bedrooms        3870 non-null   int64 \n",
      " 5   parking_spots   3870 non-null   int32 \n",
      " 6   extra_contents  3870 non-null   object\n",
      " 7   rent            3870 non-null   int32 \n",
      " 8   fee             3870 non-null   int32 \n",
      "dtypes: int32(4), int64(2), object(3)\n",
      "memory usage: 241.9+ KB\n"
     ]
    }
   ],
   "source": [
    "df.info()"
   ]
  },
  {
   "cell_type": "code",
   "execution_count": 10,
   "metadata": {},
   "outputs": [
    {
     "data": {
      "text/plain": [
       "title             0\n",
       "address           0\n",
       "area              0\n",
       "bathrooms         0\n",
       "bedrooms          0\n",
       "parking_spots     0\n",
       "extra_contents    0\n",
       "rent              0\n",
       "fee               0\n",
       "dtype: int64"
      ]
     },
     "execution_count": 10,
     "metadata": {},
     "output_type": "execute_result"
    }
   ],
   "source": [
    "#checking if all nulls were removed\n",
    "df.isna().sum()"
   ]
  },
  {
   "cell_type": "markdown",
   "metadata": {},
   "source": [
    "# Feature engineering"
   ]
  },
  {
   "cell_type": "code",
   "execution_count": 11,
   "metadata": {
    "scrolled": true
   },
   "outputs": [],
   "source": [
    "#defining if a property is a house or a apartment\n",
    "df['property_type'] = df.title.apply(lambda x: x.split()[0].strip().lower())\n",
    "\n",
    "#changing names from Brazilian Portuguese to English\n",
    "df.replace({'property_type' : { 'apartamento' : 'apartment', 'casa' : 'house'}}, inplace = True)"
   ]
  },
  {
   "cell_type": "code",
   "execution_count": 12,
   "metadata": {},
   "outputs": [],
   "source": [
    "#creating geopy objects\n",
    "\n",
    "locator = Nominatim(user_agent = 'myGeocoder')\n",
    "geocode = RateLimiter(locator.geocode, min_delay_seconds=1)\n",
    "\n",
    "#function to avoid timeout\n",
    "#orginal code found on https://gis.stackexchange.com/questions/173569/avoid-time-out-error-nominatim-geopy-openstreetmap\n",
    "def do_geocode(address, attempt=1, max_attempts=5):\n",
    "    try:\n",
    "        return locator.geocode(address, addressdetails=True)\n",
    "    except GeocoderTimedOut:\n",
    "        if attempt <= max_attempts:\n",
    "            return do_geocode(address, attempt=attempt+1)\n",
    "        raise"
   ]
  },
  {
   "cell_type": "code",
   "execution_count": null,
   "metadata": {
    "scrolled": true
   },
   "outputs": [],
   "source": [
    "#getting location data from geocode\n",
    "df['location'] = df['address'].apply(lambda x: do_geocode(x))"
   ]
  },
  {
   "cell_type": "code",
   "execution_count": null,
   "metadata": {},
   "outputs": [],
   "source": [
    "df.head()"
   ]
  },
  {
   "cell_type": "code",
   "execution_count": null,
   "metadata": {
    "scrolled": true
   },
   "outputs": [],
   "source": [
    "df.isna().sum()"
   ]
  },
  {
   "cell_type": "markdown",
   "metadata": {},
   "source": [
    "A few posts could not have their location identified by geopy, since we'll need latitude and longitude for our future model, we'll remove these posts."
   ]
  },
  {
   "cell_type": "code",
   "execution_count": null,
   "metadata": {},
   "outputs": [],
   "source": [
    "#filtering out NAs in location column\n",
    "df = df[df.location.notna()]"
   ]
  },
  {
   "cell_type": "code",
   "execution_count": null,
   "metadata": {},
   "outputs": [],
   "source": [
    "df.shape"
   ]
  },
  {
   "cell_type": "code",
   "execution_count": null,
   "metadata": {},
   "outputs": [],
   "source": [
    "#function to verify if there's a key to get out of location column\n",
    "def get_key(x, key):\n",
    "    try:\n",
    "        result = x.raw['address'][key]\n",
    "    except KeyError:\n",
    "        result ='unknown'\n",
    "    return result    "
   ]
  },
  {
   "cell_type": "code",
   "execution_count": null,
   "metadata": {
    "scrolled": true
   },
   "outputs": [],
   "source": [
    "#getting neighborhood and actual city\n",
    "df['neighborhood'] = df.location.apply(lambda x: get_key(x,'suburb'))\n",
    "df['city'] = df.location.apply(lambda x: get_key(x, 'city'))\n",
    "\n",
    "#getting latitude and longitude\n",
    "df['point'] = df['location'].apply(lambda loc: tuple(loc.point) if loc else None)\n",
    "\n",
    "\n",
    "#dropping unnecessary columns\n",
    "df.drop(columns = ['location', 'title', 'address'], inplace = True)\n",
    "\n"
   ]
  },
  {
   "cell_type": "markdown",
   "metadata": {},
   "source": [
    "Note that this project is built using Brazilian real estate market data, which means that \"neighborhood\" is an important information when it comes to addresses. Also we took advantage of the geocoding to get the \"neighborhood\" column since our \"address\" column had some imperfections that would only make it harder to extract the variable.\n",
    "\n",
    "We'll remove cities that are different from Recife, which is the main city for this project. By doing that we'll also be removing neighborhoods classified as \"unknown\", since those are neighborhoods from other cities wrongly classified as Recife's."
   ]
  },
  {
   "cell_type": "code",
   "execution_count": null,
   "metadata": {},
   "outputs": [],
   "source": [
    "#checking \"unknown\" neighborhoods\n",
    "df[df.neighborhood == 'unknown']"
   ]
  },
  {
   "cell_type": "code",
   "execution_count": null,
   "metadata": {},
   "outputs": [],
   "source": [
    "#checking cities in dataset\n",
    "df.city.unique()"
   ]
  },
  {
   "cell_type": "code",
   "execution_count": null,
   "metadata": {
    "scrolled": true
   },
   "outputs": [],
   "source": [
    "#filtering only Recife\n",
    "df = df[df.city == 'Recife']\n",
    "df.city.unique()"
   ]
  },
  {
   "cell_type": "code",
   "execution_count": null,
   "metadata": {},
   "outputs": [],
   "source": [
    "#now we won't need the city column anymore, so we'll remove it\n",
    "df.drop(columns = ['city'], inplace = True)"
   ]
  },
  {
   "cell_type": "code",
   "execution_count": null,
   "metadata": {},
   "outputs": [],
   "source": [
    "#checking if ther's still \"unknown\" neighborhoods\n",
    "df[df.neighborhood == 'unknown']"
   ]
  },
  {
   "cell_type": "code",
   "execution_count": null,
   "metadata": {},
   "outputs": [],
   "source": [
    "df.shape"
   ]
  },
  {
   "cell_type": "code",
   "execution_count": null,
   "metadata": {},
   "outputs": [],
   "source": [
    "df.head()"
   ]
  },
  {
   "cell_type": "code",
   "execution_count": null,
   "metadata": {},
   "outputs": [],
   "source": [
    "#taking values inside lists on \"extra_contents\" and turning into dummy variables\n",
    "\n",
    "\n",
    "#original code found on https://towardsdatascience.com/dealing-with-list-values-in-pandas-dataframes-a177e534f173\n",
    "def to_1D(series):\n",
    " return pd.Series([x for _list in series for x in _list])\n",
    "\n",
    "def boolean_df(item_lists, unique_items):\n",
    "# Create empty dict\n",
    "    bool_dict = {}\n",
    "    \n",
    "    # Loop through all the tags\n",
    "    for i, item in enumerate(unique_items):\n",
    "        \n",
    "        # Apply boolean mask\n",
    "        bool_dict[item] = item_lists.apply(lambda x: item in x)\n",
    "            \n",
    "    # Return the results as a dataframe\n",
    "    return pd.DataFrame(bool_dict)\n",
    "\n",
    "\n",
    "#creating dummy columns for each variable inside the extra_contents column            \n",
    "extra_contents_df = boolean_df(df.extra_contents, to_1D(df.extra_contents)).astype(int)\n",
    "\n",
    "#using pandas concat to add the new column to our dataset\n",
    "df = pd.concat([df, extra_contents_df], axis=1)\n",
    "df.drop(columns = ['extra_contents'], inplace = True)"
   ]
  },
  {
   "cell_type": "code",
   "execution_count": null,
   "metadata": {},
   "outputs": [],
   "source": [
    "df.head()"
   ]
  },
  {
   "cell_type": "code",
   "execution_count": null,
   "metadata": {},
   "outputs": [],
   "source": [
    "df.columns"
   ]
  },
  {
   "cell_type": "markdown",
   "metadata": {},
   "source": [
    "We've now added new dummy columns to our dataset using \"extra_contents\" column content in order to better understand the data."
   ]
  },
  {
   "cell_type": "code",
   "execution_count": null,
   "metadata": {},
   "outputs": [],
   "source": [
    "#summing fee and rent column\n",
    "df['rent'] = df['rent'] + df['fee']\n",
    "df.drop(columns = ['fee'], inplace = True)"
   ]
  },
  {
   "cell_type": "markdown",
   "metadata": {},
   "source": [
    "Most of the cases where the fee column is 0 is because this value is already included in the rent column. That's why we've summed up both columns."
   ]
  },
  {
   "cell_type": "code",
   "execution_count": null,
   "metadata": {},
   "outputs": [],
   "source": [
    "#naming original columns of our dataframe except for rent\n",
    "original_columns = ['property_type', 'area', 'bathrooms', 'bedrooms', 'parking_spots', \n",
    "       'neighborhood','point']"
   ]
  },
  {
   "cell_type": "markdown",
   "metadata": {},
   "source": [
    "Now we'll check the correlation of the new dummy columns with the independent variable and try to reduce the amount of columns that we'll use."
   ]
  },
  {
   "cell_type": "code",
   "execution_count": null,
   "metadata": {
    "scrolled": true
   },
   "outputs": [],
   "source": [
    "#checking correlation of new columns to filter the important ones\n",
    "new_columns_corr = abs(df.loc[:, ~df.columns.isin(original_columns)].corr()['rent']).sort_values(ascending = False)\n",
    "new_columns_corr"
   ]
  },
  {
   "cell_type": "code",
   "execution_count": null,
   "metadata": {},
   "outputs": [],
   "source": [
    "print('Number of new columns:', len(new_columns_corr) - 1)"
   ]
  },
  {
   "cell_type": "code",
   "execution_count": null,
   "metadata": {},
   "outputs": [],
   "source": [
    "selected_new_columns = list(new_columns_corr[:6].keys())"
   ]
  },
  {
   "cell_type": "markdown",
   "metadata": {},
   "source": [
    "Now we have 5 new columns that seem to have the best correlation with our independent variable (rent) out of 66 columns. By doing this we avoid that our future model may have too many features, increasing the chance of overfitting."
   ]
  },
  {
   "cell_type": "code",
   "execution_count": null,
   "metadata": {
    "scrolled": true
   },
   "outputs": [],
   "source": [
    "#putting all chosen columns in a single list\n",
    "selected_columns = original_columns + selected_new_columns\n",
    "\n",
    "#filtering our dataframe\n",
    "df = df[selected_columns]\n",
    "df"
   ]
  },
  {
   "cell_type": "markdown",
   "metadata": {},
   "source": [
    "Since this is a project written in english, we'll rename the columns from Brazilian Portuguese to English."
   ]
  },
  {
   "cell_type": "code",
   "execution_count": null,
   "metadata": {},
   "outputs": [],
   "source": [
    "#current columns\n",
    "df.columns"
   ]
  },
  {
   "cell_type": "code",
   "execution_count": null,
   "metadata": {},
   "outputs": [],
   "source": [
    "#renaming columns\n",
    "df.columns = ['property_type', 'area', 'bathrooms', 'bedrooms', 'parking_spots',\n",
    "       'neighborhood', 'point', 'rent', 'more_than_1_floor', 'furnished',\n",
    "       'barbecue_grill', 'kicthen', 'security']"
   ]
  },
  {
   "cell_type": "code",
   "execution_count": null,
   "metadata": {},
   "outputs": [],
   "source": [
    "df.head()"
   ]
  },
  {
   "cell_type": "markdown",
   "metadata": {},
   "source": [
    "The last feature we'll create is a feature that measures the distance of the property to the beach. For that we'll use data provided by <a href='http://dados.recife.pe.gov.br/dataset/cobertura-da-terra'>Dados Recife</a> that contains the geometry for Recife's beach area."
   ]
  },
  {
   "cell_type": "code",
   "execution_count": null,
   "metadata": {},
   "outputs": [],
   "source": [
    "from shapely.geometry.polygon import Polygon\n",
    "from shapely.geometry.multipolygon import MultiPolygon\n",
    "\n",
    "#function to import file and convert multipolygons to polygons. Original code found on https://gist.github.com/mhweber/cf36bb4e09df9deee5eb54dc6be74d26\n",
    "def explode(indata):\n",
    "    indf = gpd.GeoDataFrame.from_file(indata)\n",
    "    outdf = gpd.GeoDataFrame(columns=indf.columns)\n",
    "    for idx, row in indf.iterrows():\n",
    "        if type(row.geometry) == Polygon:\n",
    "            outdf = outdf.append(row,ignore_index=True)\n",
    "        if type(row.geometry) == MultiPolygon:\n",
    "            multdf = gpd.GeoDataFrame(columns=indf.columns)\n",
    "            recs = len(row.geometry)\n",
    "            multdf = multdf.append([row]*recs,ignore_index=True)\n",
    "            for geom in range(recs):\n",
    "                multdf.loc[geom,'geometry'] = row.geometry[geom]\n",
    "            outdf = outdf.append(multdf,ignore_index=True)\n",
    "    return outdf"
   ]
  },
  {
   "cell_type": "code",
   "execution_count": null,
   "metadata": {},
   "outputs": [],
   "source": [
    "#importing file\n",
    "recife_area = explode('cobertura_da_terra_2013.geojson')\n",
    "recife_area.head()"
   ]
  },
  {
   "cell_type": "code",
   "execution_count": null,
   "metadata": {},
   "outputs": [],
   "source": [
    "recife_area = recife_area.loc[recife_area.classe03 == 'praia']"
   ]
  },
  {
   "cell_type": "markdown",
   "metadata": {},
   "source": [
    "In Portuguese **\"praia\"** means **\"beach\"**, that's why we'll filter all the dataframe where the column \"classe03\" is equal to \"praia\"."
   ]
  },
  {
   "cell_type": "code",
   "execution_count": null,
   "metadata": {},
   "outputs": [],
   "source": [
    "from shapely.geometry import Point\n",
    "\n",
    "#convert multipoint into point. Original code found on https://gis.stackexchange.com/questions/302430/polygon-to-point-in-geopandas\n",
    "col = recife_area.columns.tolist()\n",
    "print(col)\n",
    "\n",
    "# new GeoDataFrame with same columns\n",
    "nodes = gpd.GeoDataFrame(columns=col)\n",
    "\n",
    "# Extraction of the polygon nodes and attributes values from polys and integration into the new GeoDataFrame\n",
    "for index, row in recife_area.iterrows():\n",
    "    for j in list(row['geometry'].exterior.coords): \n",
    "        nodes = nodes.append({'objectid': int(row['objectid']), 'classe01':row['classe01'],'classe02':row['classe02'], 'classe03':row['classe03'], 'st_area_sh': float(row['st_area_sh']),'geometry':Point(j) },ignore_index=True)\n",
    "nodes.head()"
   ]
  },
  {
   "cell_type": "code",
   "execution_count": null,
   "metadata": {},
   "outputs": [],
   "source": [
    "#storing beach coordinates\n",
    "coord_list = [(y,x) for y,x in zip(nodes['geometry'].y , nodes['geometry'].x)]"
   ]
  },
  {
   "cell_type": "code",
   "execution_count": null,
   "metadata": {},
   "outputs": [],
   "source": [
    "#function to store the minimum distance of the property to the beach\n",
    "def get_distance(x):\n",
    "    values = []\n",
    "    for i in coord_list:\n",
    "        values.append(geodesic(x, i).km)\n",
    "    return min(values)"
   ]
  },
  {
   "cell_type": "code",
   "execution_count": null,
   "metadata": {},
   "outputs": [],
   "source": [
    "#get beach distance\n",
    "df['beach_distance'] = df.point.apply(lambda x: get_distance(x))\n",
    "\n",
    "#getting latitude and longitude columns for visualization and dropping unnecessary columns\n",
    "df[['latitude', 'longitude', 'altitude']] = pd.DataFrame(df['point'].tolist(), index=df.index)\n",
    "df.drop(columns = ['altitude', 'point'], inplace = True)"
   ]
  },
  {
   "cell_type": "code",
   "execution_count": null,
   "metadata": {
    "scrolled": true
   },
   "outputs": [],
   "source": [
    "df.head()"
   ]
  },
  {
   "cell_type": "code",
   "execution_count": null,
   "metadata": {},
   "outputs": [],
   "source": [
    "df.to_csv('cleaned_df.csv', index = False)"
   ]
  }
 ],
 "metadata": {
  "kernelspec": {
   "display_name": "rental_proj",
   "language": "python",
   "name": "rental_proj"
  },
  "language_info": {
   "codemirror_mode": {
    "name": "ipython",
    "version": 3
   },
   "file_extension": ".py",
   "mimetype": "text/x-python",
   "name": "python",
   "nbconvert_exporter": "python",
   "pygments_lexer": "ipython3",
   "version": "3.7.10"
  }
 },
 "nbformat": 4,
 "nbformat_minor": 4
}
