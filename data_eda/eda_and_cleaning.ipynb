{
 "cells": [
  {
   "cell_type": "code",
   "execution_count": 34,
   "metadata": {},
   "outputs": [],
   "source": [
    "import pandas as pd\n",
    "import numpy as np\n",
    "from geopy.extra.rate_limiter import RateLimiter\n",
    "from geopy.geocoders import Nominatim\n",
    "import glob"
   ]
  },
  {
   "cell_type": "code",
   "execution_count": 35,
   "metadata": {},
   "outputs": [
    {
     "data": {
      "text/html": [
       "<div>\n",
       "<style scoped>\n",
       "    .dataframe tbody tr th:only-of-type {\n",
       "        vertical-align: middle;\n",
       "    }\n",
       "\n",
       "    .dataframe tbody tr th {\n",
       "        vertical-align: top;\n",
       "    }\n",
       "\n",
       "    .dataframe thead th {\n",
       "        text-align: right;\n",
       "    }\n",
       "</style>\n",
       "<table border=\"1\" class=\"dataframe\">\n",
       "  <thead>\n",
       "    <tr style=\"text-align: right;\">\n",
       "      <th></th>\n",
       "      <th>title</th>\n",
       "      <th>address</th>\n",
       "      <th>area</th>\n",
       "      <th>bathrooms</th>\n",
       "      <th>bedrooms</th>\n",
       "      <th>parking_spots</th>\n",
       "      <th>extra_contents</th>\n",
       "      <th>rent</th>\n",
       "      <th>fee</th>\n",
       "    </tr>\n",
       "  </thead>\n",
       "  <tbody>\n",
       "    <tr>\n",
       "      <th>0</th>\n",
       "      <td>Apartamento com 3 Quartos para Aluguel, 228m²</td>\n",
       "      <td>Rua dos Navegantes, 215 - Boa Viagem, Recife - PE</td>\n",
       "      <td>228.0</td>\n",
       "      <td>4</td>\n",
       "      <td>3.0</td>\n",
       "      <td>1</td>\n",
       "      <td>NaN</td>\n",
       "      <td>6.0</td>\n",
       "      <td>NaN</td>\n",
       "    </tr>\n",
       "    <tr>\n",
       "      <th>1</th>\n",
       "      <td>Apartamento com 4 Quartos para Aluguel, 112m²</td>\n",
       "      <td>Rua Baltazar Passos, 260 - Boa Viagem, Recife ...</td>\n",
       "      <td>112.0</td>\n",
       "      <td>4</td>\n",
       "      <td>4.0</td>\n",
       "      <td>2</td>\n",
       "      <td>['Piscina', 'Elevador', 'Academia', 'Churrasqu...</td>\n",
       "      <td>3.5</td>\n",
       "      <td>NaN</td>\n",
       "    </tr>\n",
       "    <tr>\n",
       "      <th>2</th>\n",
       "      <td>Apartamento com 4 Quartos para Aluguel, 160m²</td>\n",
       "      <td>Avenida Boa Viagem, 5822 - Boa Viagem, Recife ...</td>\n",
       "      <td>160.0</td>\n",
       "      <td>5</td>\n",
       "      <td>4.0</td>\n",
       "      <td>3</td>\n",
       "      <td>['Piscina', 'Elevador', 'Academia', 'Condomíni...</td>\n",
       "      <td>5.0</td>\n",
       "      <td>R$ 1.232</td>\n",
       "    </tr>\n",
       "    <tr>\n",
       "      <th>3</th>\n",
       "      <td>Apartamento com 3 Quartos para Aluguel, 75m²</td>\n",
       "      <td>Tamarineira, Recife - PE</td>\n",
       "      <td>75.0</td>\n",
       "      <td>3</td>\n",
       "      <td>3.0</td>\n",
       "      <td>2</td>\n",
       "      <td>['Piscina', 'Elevador', 'Academia', 'Playgroun...</td>\n",
       "      <td>3.2</td>\n",
       "      <td>NaN</td>\n",
       "    </tr>\n",
       "    <tr>\n",
       "      <th>4</th>\n",
       "      <td>Apartamento com 5 Quartos para Aluguel, 200m²</td>\n",
       "      <td>Rua Setúbal, 278 - Boa Viagem, Recife - PE</td>\n",
       "      <td>200.0</td>\n",
       "      <td>5</td>\n",
       "      <td>5.0</td>\n",
       "      <td>3</td>\n",
       "      <td>['Elevador', 'Ar-condicionado', 'Salão de fest...</td>\n",
       "      <td>6.0</td>\n",
       "      <td>NaN</td>\n",
       "    </tr>\n",
       "  </tbody>\n",
       "</table>\n",
       "</div>"
      ],
      "text/plain": [
       "                                           title  \\\n",
       "0  Apartamento com 3 Quartos para Aluguel, 228m²   \n",
       "1  Apartamento com 4 Quartos para Aluguel, 112m²   \n",
       "2  Apartamento com 4 Quartos para Aluguel, 160m²   \n",
       "3   Apartamento com 3 Quartos para Aluguel, 75m²   \n",
       "4  Apartamento com 5 Quartos para Aluguel, 200m²   \n",
       "\n",
       "                                             address   area bathrooms  \\\n",
       "0  Rua dos Navegantes, 215 - Boa Viagem, Recife - PE  228.0         4   \n",
       "1  Rua Baltazar Passos, 260 - Boa Viagem, Recife ...  112.0         4   \n",
       "2  Avenida Boa Viagem, 5822 - Boa Viagem, Recife ...  160.0         5   \n",
       "3                           Tamarineira, Recife - PE   75.0         3   \n",
       "4         Rua Setúbal, 278 - Boa Viagem, Recife - PE  200.0         5   \n",
       "\n",
       "   bedrooms parking_spots                                     extra_contents  \\\n",
       "0       3.0             1                                                NaN   \n",
       "1       4.0             2  ['Piscina', 'Elevador', 'Academia', 'Churrasqu...   \n",
       "2       4.0             3  ['Piscina', 'Elevador', 'Academia', 'Condomíni...   \n",
       "3       3.0             2  ['Piscina', 'Elevador', 'Academia', 'Playgroun...   \n",
       "4       5.0             3  ['Elevador', 'Ar-condicionado', 'Salão de fest...   \n",
       "\n",
       "   rent           fee  \n",
       "0   6.0           NaN  \n",
       "1   3.5           NaN  \n",
       "2   5.0    R$ 1.232    \n",
       "3   3.2           NaN  \n",
       "4   6.0           NaN  "
      ]
     },
     "execution_count": 35,
     "metadata": {},
     "output_type": "execute_result"
    }
   ],
   "source": [
    "path = '../scraping/datasets_scraped'\n",
    "all_files = glob.glob(path + \"/*.csv\")\n",
    "\n",
    "li = []\n",
    "\n",
    "for filename in all_files:\n",
    "    frame = pd.read_csv(filename, index_col=None, header=0)\n",
    "    li.append(frame)\n",
    "\n",
    "#concatenating all datasets and removing duplicate rows (there might be duplicate posts)\n",
    "df = pd.concat(li, axis=0, ignore_index=True)\n",
    "df.drop_duplicates(inplace = True)\n",
    "\n",
    "df.head()"
   ]
  },
  {
   "cell_type": "code",
   "execution_count": 36,
   "metadata": {},
   "outputs": [
    {
     "data": {
      "text/plain": [
       "(6083, 9)"
      ]
     },
     "execution_count": 36,
     "metadata": {},
     "output_type": "execute_result"
    }
   ],
   "source": [
    "df.shape"
   ]
  },
  {
   "cell_type": "code",
   "execution_count": 37,
   "metadata": {},
   "outputs": [
    {
     "name": "stdout",
     "output_type": "stream",
     "text": [
      "<class 'pandas.core.frame.DataFrame'>\n",
      "Int64Index: 6083 entries, 0 to 6350\n",
      "Data columns (total 9 columns):\n",
      " #   Column          Non-Null Count  Dtype  \n",
      "---  ------          --------------  -----  \n",
      " 0   title           6079 non-null   object \n",
      " 1   address         6079 non-null   object \n",
      " 2   area            6079 non-null   float64\n",
      " 3   bathrooms       6079 non-null   object \n",
      " 4   bedrooms        6079 non-null   float64\n",
      " 5   parking_spots   6079 non-null   object \n",
      " 6   extra_contents  5250 non-null   object \n",
      " 7   rent            6079 non-null   float64\n",
      " 8   fee             1940 non-null   object \n",
      "dtypes: float64(3), object(6)\n",
      "memory usage: 475.2+ KB\n"
     ]
    }
   ],
   "source": [
    "df.info()"
   ]
  },
  {
   "cell_type": "markdown",
   "metadata": {},
   "source": [
    "# Data cleaning"
   ]
  },
  {
   "cell_type": "code",
   "execution_count": null,
   "metadata": {},
   "outputs": [],
   "source": [
    "#checking null values in columns\n",
    "df.isna().sum()"
   ]
  },
  {
   "cell_type": "markdown",
   "metadata": {},
   "source": [
    "Here we'll have two different approaches.\n",
    "\n",
    "- For the *extra_contents* column we've already filled the null values with a empty list. That way in the EDA we'll be able to turn those lists into columns. \n",
    "\n",
    "- For the *fee* column we'll fill the NAs with 0, most of the posts that do not contain a fee description also say that the value is already contained in rent."
   ]
  },
  {
   "cell_type": "code",
   "execution_count": null,
   "metadata": {},
   "outputs": [],
   "source": [
    "#removing currency simbols, filling NAs with 0 and turning column into integer\n",
    "df['fee'] = df['fee'].str.replace('.','').str.replace('$','').str.replace('R','').str.strip().astype(float)\n",
    "df['fee'] = df.fee.fillna(0)\n",
    "df['fee'] = df.fee.astype(int)\n",
    "\n",
    "#turning into integers columns and replacing strings\n",
    "df['bathrooms'] = df.bathrooms.str.replace('--', '0')\n",
    "df['bathrooms'] = df.bathrooms.astype(str).astype(int)\n",
    "df['parking_spots'] = df.parking_spots.str.replace('--', '0')\n",
    "df['parking_spots'] = df.parking_spots.astype(str).astype(int)\n",
    "\n",
    "#filling nas with a empty list and turning string list into list\n",
    "df.extra_contents.fillna('[]', inplace = True)\n",
    "df[\"extra_contents\"] = df[\"extra_contents\"].apply(eval)\n",
    "\n",
    "#correcting the decimal places in the rent column and turning it into integer\n",
    "df['rent'] = df.rent * 1000\n",
    "df['rent'] = df.rent.astype(int)"
   ]
  },
  {
   "cell_type": "code",
   "execution_count": null,
   "metadata": {},
   "outputs": [],
   "source": [
    "df.head()"
   ]
  },
  {
   "cell_type": "code",
   "execution_count": null,
   "metadata": {},
   "outputs": [],
   "source": [
    "df.info()"
   ]
  },
  {
   "cell_type": "code",
   "execution_count": null,
   "metadata": {},
   "outputs": [],
   "source": [
    "df.isna().sum()"
   ]
  },
  {
   "cell_type": "code",
   "execution_count": 3,
   "metadata": {},
   "outputs": [
    {
     "data": {
      "text/plain": [
       "array(['Apartamento'], dtype=object)"
      ]
     },
     "execution_count": 3,
     "metadata": {},
     "output_type": "execute_result"
    }
   ],
   "source": [
    "df.title.str.split(' ', 1).str[0].unique()"
   ]
  },
  {
   "cell_type": "markdown",
   "metadata": {},
   "source": [
    "Here we can also see that all the properties have been classified as apartments."
   ]
  },
  {
   "cell_type": "markdown",
   "metadata": {},
   "source": [
    "# Feature engineering"
   ]
  },
  {
   "cell_type": "code",
   "execution_count": 4,
   "metadata": {},
   "outputs": [],
   "source": [
    "#df['address'] = df.address.str.rsplit(\"-\", 1).str[0]\n",
    "df['address'] = df.address.str.strip()"
   ]
  },
  {
   "cell_type": "code",
   "execution_count": 5,
   "metadata": {},
   "outputs": [],
   "source": [
    "locator = Nominatim(user_agent = 'myGeocoder')\n",
    "geocode = RateLimiter(locator.geocode, min_delay_seconds=2)"
   ]
  },
  {
   "cell_type": "code",
   "execution_count": 6,
   "metadata": {
    "scrolled": true
   },
   "outputs": [],
   "source": [
    "#getting location data from geocode\n",
    "df['location'] = df['address'].apply(locator.geocode)"
   ]
  },
  {
   "cell_type": "code",
   "execution_count": 8,
   "metadata": {},
   "outputs": [
    {
     "data": {
      "text/html": [
       "<div>\n",
       "<style scoped>\n",
       "    .dataframe tbody tr th:only-of-type {\n",
       "        vertical-align: middle;\n",
       "    }\n",
       "\n",
       "    .dataframe tbody tr th {\n",
       "        vertical-align: top;\n",
       "    }\n",
       "\n",
       "    .dataframe thead th {\n",
       "        text-align: right;\n",
       "    }\n",
       "</style>\n",
       "<table border=\"1\" class=\"dataframe\">\n",
       "  <thead>\n",
       "    <tr style=\"text-align: right;\">\n",
       "      <th></th>\n",
       "      <th>title</th>\n",
       "      <th>address</th>\n",
       "      <th>area</th>\n",
       "      <th>bathrooms</th>\n",
       "      <th>bedrooms</th>\n",
       "      <th>parking_spots</th>\n",
       "      <th>extra_contents</th>\n",
       "      <th>rent</th>\n",
       "      <th>fee</th>\n",
       "      <th>location</th>\n",
       "    </tr>\n",
       "  </thead>\n",
       "  <tbody>\n",
       "    <tr>\n",
       "      <th>0</th>\n",
       "      <td>Apartamento com 3 Quartos para Aluguel, 228m²</td>\n",
       "      <td>Rua dos Navegantes, 215 - Boa Viagem, Recife - PE</td>\n",
       "      <td>228</td>\n",
       "      <td>4</td>\n",
       "      <td>3</td>\n",
       "      <td>1</td>\n",
       "      <td>[]</td>\n",
       "      <td>6000</td>\n",
       "      <td>0</td>\n",
       "      <td>(215, Rua dos Navegantes, Boa Viagem, Recife, ...</td>\n",
       "    </tr>\n",
       "    <tr>\n",
       "      <th>1</th>\n",
       "      <td>Apartamento com 4 Quartos para Aluguel, 112m²</td>\n",
       "      <td>Rua Baltazar Passos, 260 - Boa Viagem, Recife ...</td>\n",
       "      <td>112</td>\n",
       "      <td>4</td>\n",
       "      <td>4</td>\n",
       "      <td>2</td>\n",
       "      <td>['Piscina', 'Elevador', 'Academia', 'Churrasqu...</td>\n",
       "      <td>3500</td>\n",
       "      <td>0</td>\n",
       "      <td>(260, Rua Baltazar Passos, Boa Viagem, Recife,...</td>\n",
       "    </tr>\n",
       "    <tr>\n",
       "      <th>2</th>\n",
       "      <td>Apartamento com 4 Quartos para Aluguel, 160m²</td>\n",
       "      <td>Avenida Boa Viagem, 5822 - Boa Viagem, Recife ...</td>\n",
       "      <td>160</td>\n",
       "      <td>5</td>\n",
       "      <td>4</td>\n",
       "      <td>3</td>\n",
       "      <td>['Piscina', 'Elevador', 'Academia', 'Condomíni...</td>\n",
       "      <td>5000</td>\n",
       "      <td>1232</td>\n",
       "      <td>(5822, Avenida Boa Viagem, Boa Viagem, Recife,...</td>\n",
       "    </tr>\n",
       "    <tr>\n",
       "      <th>3</th>\n",
       "      <td>Apartamento com 3 Quartos para Aluguel, 75m²</td>\n",
       "      <td>Tamarineira, Recife - PE</td>\n",
       "      <td>75</td>\n",
       "      <td>3</td>\n",
       "      <td>3</td>\n",
       "      <td>2</td>\n",
       "      <td>['Piscina', 'Elevador', 'Academia', 'Playgroun...</td>\n",
       "      <td>3200</td>\n",
       "      <td>0</td>\n",
       "      <td>(Tamarineira, Recife, Região Geográfica Imedia...</td>\n",
       "    </tr>\n",
       "    <tr>\n",
       "      <th>4</th>\n",
       "      <td>Apartamento com 5 Quartos para Aluguel, 200m²</td>\n",
       "      <td>Rua Setúbal, 278 - Boa Viagem, Recife - PE</td>\n",
       "      <td>200</td>\n",
       "      <td>5</td>\n",
       "      <td>5</td>\n",
       "      <td>3</td>\n",
       "      <td>['Elevador', 'Ar-condicionado', 'Salão de fest...</td>\n",
       "      <td>6000</td>\n",
       "      <td>0</td>\n",
       "      <td>(278, Rua Setúbal, Boa Viagem, Recife, Região ...</td>\n",
       "    </tr>\n",
       "  </tbody>\n",
       "</table>\n",
       "</div>"
      ],
      "text/plain": [
       "                                           title  \\\n",
       "0  Apartamento com 3 Quartos para Aluguel, 228m²   \n",
       "1  Apartamento com 4 Quartos para Aluguel, 112m²   \n",
       "2  Apartamento com 4 Quartos para Aluguel, 160m²   \n",
       "3   Apartamento com 3 Quartos para Aluguel, 75m²   \n",
       "4  Apartamento com 5 Quartos para Aluguel, 200m²   \n",
       "\n",
       "                                             address  area  bathrooms  \\\n",
       "0  Rua dos Navegantes, 215 - Boa Viagem, Recife - PE   228          4   \n",
       "1  Rua Baltazar Passos, 260 - Boa Viagem, Recife ...   112          4   \n",
       "2  Avenida Boa Viagem, 5822 - Boa Viagem, Recife ...   160          5   \n",
       "3                           Tamarineira, Recife - PE    75          3   \n",
       "4         Rua Setúbal, 278 - Boa Viagem, Recife - PE   200          5   \n",
       "\n",
       "   bedrooms  parking_spots                                     extra_contents  \\\n",
       "0         3              1                                                 []   \n",
       "1         4              2  ['Piscina', 'Elevador', 'Academia', 'Churrasqu...   \n",
       "2         4              3  ['Piscina', 'Elevador', 'Academia', 'Condomíni...   \n",
       "3         3              2  ['Piscina', 'Elevador', 'Academia', 'Playgroun...   \n",
       "4         5              3  ['Elevador', 'Ar-condicionado', 'Salão de fest...   \n",
       "\n",
       "   rent   fee                                           location  \n",
       "0  6000     0  (215, Rua dos Navegantes, Boa Viagem, Recife, ...  \n",
       "1  3500     0  (260, Rua Baltazar Passos, Boa Viagem, Recife,...  \n",
       "2  5000  1232  (5822, Avenida Boa Viagem, Boa Viagem, Recife,...  \n",
       "3  3200     0  (Tamarineira, Recife, Região Geográfica Imedia...  \n",
       "4  6000     0  (278, Rua Setúbal, Boa Viagem, Recife, Região ...  "
      ]
     },
     "execution_count": 8,
     "metadata": {},
     "output_type": "execute_result"
    }
   ],
   "source": [
    "df.head()"
   ]
  },
  {
   "cell_type": "code",
   "execution_count": 10,
   "metadata": {
    "scrolled": true
   },
   "outputs": [
    {
     "data": {
      "text/plain": [
       "title               0\n",
       "address             0\n",
       "area                0\n",
       "bathrooms           0\n",
       "bedrooms            0\n",
       "parking_spots       0\n",
       "extra_contents      0\n",
       "rent                0\n",
       "fee                 0\n",
       "location          165\n",
       "dtype: int64"
      ]
     },
     "execution_count": 10,
     "metadata": {},
     "output_type": "execute_result"
    }
   ],
   "source": [
    "df.isna().sum()"
   ]
  },
  {
   "cell_type": "markdown",
   "metadata": {},
   "source": [
    "A few posts of our data could not have their location identified by geopy, since we'll need latitude and longitude for our future model, we'll remove those posts."
   ]
  },
  {
   "cell_type": "code",
   "execution_count": 15,
   "metadata": {},
   "outputs": [],
   "source": [
    "#filtering out NAs in location column\n",
    "df = df[df.location.notna()]"
   ]
  },
  {
   "cell_type": "code",
   "execution_count": 18,
   "metadata": {},
   "outputs": [],
   "source": [
    "#getting latitude and longitude\n",
    "df['neighborhood'] = df.location.raw[\"address\"][\"suburb\"]\n",
    "df['point'] = df['location'].apply(lambda loc: tuple(loc.point) if loc else None)\n",
    "df[['latitude', 'longitude', 'altitude']] = pd.DataFrame(df['point'].tolist(), index=df.index)\n",
    "\n",
    "#dropping unnecessary columns\n",
    "df.drop(columns = ['location', 'point', 'altitude', 'title', 'address'], inplace = True)"
   ]
  },
  {
   "cell_type": "markdown",
   "metadata": {},
   "source": [
    "Note that this project is built using Brazilian real estate market data, wich means that neighborhood is an important information when it comes to addresses. Also we took advantage of the geocoding to get the neighborhood column since our address column had some imperfections that would only make it harder to extract the variable."
   ]
  },
  {
   "cell_type": "code",
   "execution_count": 19,
   "metadata": {},
   "outputs": [
    {
     "data": {
      "text/html": [
       "<div>\n",
       "<style scoped>\n",
       "    .dataframe tbody tr th:only-of-type {\n",
       "        vertical-align: middle;\n",
       "    }\n",
       "\n",
       "    .dataframe tbody tr th {\n",
       "        vertical-align: top;\n",
       "    }\n",
       "\n",
       "    .dataframe thead th {\n",
       "        text-align: right;\n",
       "    }\n",
       "</style>\n",
       "<table border=\"1\" class=\"dataframe\">\n",
       "  <thead>\n",
       "    <tr style=\"text-align: right;\">\n",
       "      <th></th>\n",
       "      <th>title</th>\n",
       "      <th>address</th>\n",
       "      <th>area</th>\n",
       "      <th>bathrooms</th>\n",
       "      <th>bedrooms</th>\n",
       "      <th>parking_spots</th>\n",
       "      <th>extra_contents</th>\n",
       "      <th>rent</th>\n",
       "      <th>fee</th>\n",
       "      <th>latitude</th>\n",
       "      <th>longitude</th>\n",
       "    </tr>\n",
       "  </thead>\n",
       "  <tbody>\n",
       "    <tr>\n",
       "      <th>0</th>\n",
       "      <td>Apartamento com 3 Quartos para Aluguel, 228m²</td>\n",
       "      <td>Rua dos Navegantes, 215 - Boa Viagem, Recife - PE</td>\n",
       "      <td>228</td>\n",
       "      <td>4</td>\n",
       "      <td>3</td>\n",
       "      <td>1</td>\n",
       "      <td>[]</td>\n",
       "      <td>6000</td>\n",
       "      <td>0</td>\n",
       "      <td>-8.130101</td>\n",
       "      <td>-34.900182</td>\n",
       "    </tr>\n",
       "    <tr>\n",
       "      <th>1</th>\n",
       "      <td>Apartamento com 4 Quartos para Aluguel, 112m²</td>\n",
       "      <td>Rua Baltazar Passos, 260 - Boa Viagem, Recife ...</td>\n",
       "      <td>112</td>\n",
       "      <td>4</td>\n",
       "      <td>4</td>\n",
       "      <td>2</td>\n",
       "      <td>['Piscina', 'Elevador', 'Academia', 'Churrasqu...</td>\n",
       "      <td>3500</td>\n",
       "      <td>0</td>\n",
       "      <td>-8.143875</td>\n",
       "      <td>-34.907153</td>\n",
       "    </tr>\n",
       "    <tr>\n",
       "      <th>2</th>\n",
       "      <td>Apartamento com 4 Quartos para Aluguel, 160m²</td>\n",
       "      <td>Avenida Boa Viagem, 5822 - Boa Viagem, Recife ...</td>\n",
       "      <td>160</td>\n",
       "      <td>5</td>\n",
       "      <td>4</td>\n",
       "      <td>3</td>\n",
       "      <td>['Piscina', 'Elevador', 'Academia', 'Condomíni...</td>\n",
       "      <td>5000</td>\n",
       "      <td>1232</td>\n",
       "      <td>-8.139654</td>\n",
       "      <td>-34.903205</td>\n",
       "    </tr>\n",
       "    <tr>\n",
       "      <th>3</th>\n",
       "      <td>Apartamento com 3 Quartos para Aluguel, 75m²</td>\n",
       "      <td>Tamarineira, Recife - PE</td>\n",
       "      <td>75</td>\n",
       "      <td>3</td>\n",
       "      <td>3</td>\n",
       "      <td>2</td>\n",
       "      <td>['Piscina', 'Elevador', 'Academia', 'Playgroun...</td>\n",
       "      <td>3200</td>\n",
       "      <td>0</td>\n",
       "      <td>-8.032416</td>\n",
       "      <td>-34.901019</td>\n",
       "    </tr>\n",
       "    <tr>\n",
       "      <th>4</th>\n",
       "      <td>Apartamento com 5 Quartos para Aluguel, 200m²</td>\n",
       "      <td>Rua Setúbal, 278 - Boa Viagem, Recife - PE</td>\n",
       "      <td>200</td>\n",
       "      <td>5</td>\n",
       "      <td>5</td>\n",
       "      <td>3</td>\n",
       "      <td>['Elevador', 'Ar-condicionado', 'Salão de fest...</td>\n",
       "      <td>6000</td>\n",
       "      <td>0</td>\n",
       "      <td>-8.133530</td>\n",
       "      <td>-34.902099</td>\n",
       "    </tr>\n",
       "  </tbody>\n",
       "</table>\n",
       "</div>"
      ],
      "text/plain": [
       "                                           title  \\\n",
       "0  Apartamento com 3 Quartos para Aluguel, 228m²   \n",
       "1  Apartamento com 4 Quartos para Aluguel, 112m²   \n",
       "2  Apartamento com 4 Quartos para Aluguel, 160m²   \n",
       "3   Apartamento com 3 Quartos para Aluguel, 75m²   \n",
       "4  Apartamento com 5 Quartos para Aluguel, 200m²   \n",
       "\n",
       "                                             address  area  bathrooms  \\\n",
       "0  Rua dos Navegantes, 215 - Boa Viagem, Recife - PE   228          4   \n",
       "1  Rua Baltazar Passos, 260 - Boa Viagem, Recife ...   112          4   \n",
       "2  Avenida Boa Viagem, 5822 - Boa Viagem, Recife ...   160          5   \n",
       "3                           Tamarineira, Recife - PE    75          3   \n",
       "4         Rua Setúbal, 278 - Boa Viagem, Recife - PE   200          5   \n",
       "\n",
       "   bedrooms  parking_spots                                     extra_contents  \\\n",
       "0         3              1                                                 []   \n",
       "1         4              2  ['Piscina', 'Elevador', 'Academia', 'Churrasqu...   \n",
       "2         4              3  ['Piscina', 'Elevador', 'Academia', 'Condomíni...   \n",
       "3         3              2  ['Piscina', 'Elevador', 'Academia', 'Playgroun...   \n",
       "4         5              3  ['Elevador', 'Ar-condicionado', 'Salão de fest...   \n",
       "\n",
       "   rent   fee  latitude  longitude  \n",
       "0  6000     0 -8.130101 -34.900182  \n",
       "1  3500     0 -8.143875 -34.907153  \n",
       "2  5000  1232 -8.139654 -34.903205  \n",
       "3  3200     0 -8.032416 -34.901019  \n",
       "4  6000     0 -8.133530 -34.902099  "
      ]
     },
     "execution_count": 19,
     "metadata": {},
     "output_type": "execute_result"
    }
   ],
   "source": [
    "df.head()"
   ]
  },
  {
   "cell_type": "code",
   "execution_count": 54,
   "metadata": {},
   "outputs": [],
   "source": [
    "#taking values inside lists on \"extra_contents\" and turning into dummy variables\n",
    "#code found on https://towardsdatascience.com/dealing-with-list-values-in-pandas-dataframes-a177e534f173\n",
    "\n",
    "def to_1D(series):\n",
    " return pd.Series([x for _list in series for x in _list])\n",
    "\n",
    "def boolean_df(item_lists, unique_items):\n",
    "# Create empty dict\n",
    "    bool_dict = {}\n",
    "    \n",
    "    # Loop through all the tags\n",
    "    for i, item in enumerate(unique_items):\n",
    "        \n",
    "        # Apply boolean mask\n",
    "        bool_dict[item] = item_lists.apply(lambda x: item in x)\n",
    "            \n",
    "    # Return the results as a dataframe\n",
    "    return pd.DataFrame(bool_dict)\n",
    "\n",
    "\n",
    "#creating dummy columns for each variable inside the extra_contents column            \n",
    "extra_contents_df = boolean_df(df.extra_contents, to_1D(df.extra_contents)).astype(int)\n",
    "\n",
    "#using pandas concat to add the new column to our dataset\n",
    "df = pd.concat([df, extra_contents_df], axis=1)\n",
    "df.drop(columns = ['extra_contents'], inplace = True)"
   ]
  },
  {
   "cell_type": "code",
   "execution_count": 56,
   "metadata": {},
   "outputs": [
    {
     "data": {
      "text/plain": [
       "Index(['title', 'address', 'area', 'bathrooms', 'bedrooms', 'parking_spots',\n",
       "       'rent', 'fee', 'latitude', 'longitude', 'Piscina', 'Elevador',\n",
       "       'Academia', 'Churrasqueira', 'Playground', 'Condomínio fechado',\n",
       "       'Salão de festas', 'Ar-condicionado', 'Aceita animais', 'Jardim',\n",
       "       'Mobiliado', 'Varanda', 'Cozinha americana', 'Portaria 24h', 'Garagem',\n",
       "       'Cozinha', 'Área de serviço', 'Quadra poliesportiva',\n",
       "       'Armário na cozinha', 'Interfone', 'Circuito de segurança',\n",
       "       'Mais de um andar', 'Segurança 24h', 'Vista para o mar', 'Quintal',\n",
       "       'Sauna', 'TV a cabo', 'Conexão à internet', 'Espaço verde / Parque',\n",
       "       'Salão de jogos', 'Vigia', 'Espaço gourmet', 'Lavanderia',\n",
       "       'Sistema de alarme', 'Gerador elétrico', 'Varanda gourmet', 'Depósito',\n",
       "       'Armário embutido', 'Recepção', 'Copa', 'Vista exterior',\n",
       "       'Móvel planejado', 'Perto de vias de acesso', 'Cinema', 'Escritório',\n",
       "       'Quadra de tênis', 'Closet', 'Pista de cooper', 'Lareira',\n",
       "       'Próximo a escola', 'Próximo a shopping',\n",
       "       'Estacionamento para visitantes', 'Área de lazer', 'Cozinha grande',\n",
       "       'Sala grande', 'Sala de jantar', 'Janela de alumínio',\n",
       "       'Piscina para adulto'],\n",
       "      dtype='object')"
      ]
     },
     "execution_count": 56,
     "metadata": {},
     "output_type": "execute_result"
    }
   ],
   "source": [
    "df.columns"
   ]
  },
  {
   "cell_type": "markdown",
   "metadata": {},
   "source": [
    "We've now added 58 dummy columns to our dataset with extra contents about the apartments that will help us understand the data."
   ]
  },
  {
   "cell_type": "code",
   "execution_count": 73,
   "metadata": {},
   "outputs": [],
   "source": [
    "#summing fee and rent column\n",
    "\n",
    "df['rent'] = df['rent'] + df['fee']\n",
    "df.drop(columns = ['fee'], inplace = True)"
   ]
  },
  {
   "cell_type": "markdown",
   "metadata": {},
   "source": [
    "Most of the cases where the fee column is 0 is because this value is already included in the rent column. That's why we've summed up both columns."
   ]
  }
 ],
 "metadata": {
  "kernelspec": {
   "display_name": "rental_proj_env",
   "language": "python",
   "name": "rental_proj_env"
  },
  "language_info": {
   "codemirror_mode": {
    "name": "ipython",
    "version": 3
   },
   "file_extension": ".py",
   "mimetype": "text/x-python",
   "name": "python",
   "nbconvert_exporter": "python",
   "pygments_lexer": "ipython3",
   "version": "3.7.6"
  }
 },
 "nbformat": 4,
 "nbformat_minor": 4
}
