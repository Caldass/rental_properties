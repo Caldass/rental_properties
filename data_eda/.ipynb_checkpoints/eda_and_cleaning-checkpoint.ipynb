{
 "cells": [
  {
   "cell_type": "code",
   "execution_count": 1,
   "metadata": {},
   "outputs": [],
   "source": [
    "import pandas as pd\n",
    "import numpy as np\n",
    "from geopy.extra.rate_limiter import RateLimiter\n",
    "from geopy.geocoders import Nominatim\n",
    "from geopy.exc import GeocoderTimedOut\n",
    "import glob"
   ]
  },
  {
   "cell_type": "markdown",
   "metadata": {},
   "source": [
    "# Grouping scraped datasets"
   ]
  },
  {
   "cell_type": "code",
   "execution_count": 2,
   "metadata": {},
   "outputs": [
    {
     "data": {
      "text/html": [
       "<div>\n",
       "<style scoped>\n",
       "    .dataframe tbody tr th:only-of-type {\n",
       "        vertical-align: middle;\n",
       "    }\n",
       "\n",
       "    .dataframe tbody tr th {\n",
       "        vertical-align: top;\n",
       "    }\n",
       "\n",
       "    .dataframe thead th {\n",
       "        text-align: right;\n",
       "    }\n",
       "</style>\n",
       "<table border=\"1\" class=\"dataframe\">\n",
       "  <thead>\n",
       "    <tr style=\"text-align: right;\">\n",
       "      <th></th>\n",
       "      <th>title</th>\n",
       "      <th>address</th>\n",
       "      <th>area</th>\n",
       "      <th>bathrooms</th>\n",
       "      <th>bedrooms</th>\n",
       "      <th>parking_spots</th>\n",
       "      <th>extra_contents</th>\n",
       "      <th>rent</th>\n",
       "      <th>fee</th>\n",
       "    </tr>\n",
       "  </thead>\n",
       "  <tbody>\n",
       "    <tr>\n",
       "      <th>0</th>\n",
       "      <td>Apartamento com 3 Quartos para Aluguel, 228m²</td>\n",
       "      <td>Rua dos Navegantes, 215 - Boa Viagem, Recife - PE</td>\n",
       "      <td>228</td>\n",
       "      <td>4</td>\n",
       "      <td>3</td>\n",
       "      <td>1</td>\n",
       "      <td>NaN</td>\n",
       "      <td>6.0</td>\n",
       "      <td>NaN</td>\n",
       "    </tr>\n",
       "    <tr>\n",
       "      <th>1</th>\n",
       "      <td>Apartamento com 4 Quartos para Aluguel, 112m²</td>\n",
       "      <td>Rua Baltazar Passos, 260 - Boa Viagem, Recife ...</td>\n",
       "      <td>112</td>\n",
       "      <td>4</td>\n",
       "      <td>4</td>\n",
       "      <td>2</td>\n",
       "      <td>['Piscina', 'Elevador', 'Academia', 'Churrasqu...</td>\n",
       "      <td>3.5</td>\n",
       "      <td>NaN</td>\n",
       "    </tr>\n",
       "    <tr>\n",
       "      <th>2</th>\n",
       "      <td>Apartamento com 4 Quartos para Aluguel, 160m²</td>\n",
       "      <td>Avenida Boa Viagem, 5822 - Boa Viagem, Recife ...</td>\n",
       "      <td>160</td>\n",
       "      <td>5</td>\n",
       "      <td>4</td>\n",
       "      <td>3</td>\n",
       "      <td>['Piscina', 'Elevador', 'Academia', 'Condomíni...</td>\n",
       "      <td>5.0</td>\n",
       "      <td>R$ 1.232</td>\n",
       "    </tr>\n",
       "    <tr>\n",
       "      <th>3</th>\n",
       "      <td>Apartamento com 3 Quartos para Aluguel, 75m²</td>\n",
       "      <td>Tamarineira, Recife - PE</td>\n",
       "      <td>75</td>\n",
       "      <td>3</td>\n",
       "      <td>3</td>\n",
       "      <td>2</td>\n",
       "      <td>['Piscina', 'Elevador', 'Academia', 'Playgroun...</td>\n",
       "      <td>3.2</td>\n",
       "      <td>NaN</td>\n",
       "    </tr>\n",
       "    <tr>\n",
       "      <th>4</th>\n",
       "      <td>Apartamento com 5 Quartos para Aluguel, 200m²</td>\n",
       "      <td>Rua Setúbal, 278 - Boa Viagem, Recife - PE</td>\n",
       "      <td>200</td>\n",
       "      <td>5</td>\n",
       "      <td>5</td>\n",
       "      <td>3</td>\n",
       "      <td>['Elevador', 'Ar-condicionado', 'Salão de fest...</td>\n",
       "      <td>6.0</td>\n",
       "      <td>NaN</td>\n",
       "    </tr>\n",
       "  </tbody>\n",
       "</table>\n",
       "</div>"
      ],
      "text/plain": [
       "                                           title  \\\n",
       "0  Apartamento com 3 Quartos para Aluguel, 228m²   \n",
       "1  Apartamento com 4 Quartos para Aluguel, 112m²   \n",
       "2  Apartamento com 4 Quartos para Aluguel, 160m²   \n",
       "3   Apartamento com 3 Quartos para Aluguel, 75m²   \n",
       "4  Apartamento com 5 Quartos para Aluguel, 200m²   \n",
       "\n",
       "                                             address  area bathrooms  \\\n",
       "0  Rua dos Navegantes, 215 - Boa Viagem, Recife - PE   228         4   \n",
       "1  Rua Baltazar Passos, 260 - Boa Viagem, Recife ...   112         4   \n",
       "2  Avenida Boa Viagem, 5822 - Boa Viagem, Recife ...   160         5   \n",
       "3                           Tamarineira, Recife - PE    75         3   \n",
       "4         Rua Setúbal, 278 - Boa Viagem, Recife - PE   200         5   \n",
       "\n",
       "   bedrooms parking_spots                                     extra_contents  \\\n",
       "0         3             1                                                NaN   \n",
       "1         4             2  ['Piscina', 'Elevador', 'Academia', 'Churrasqu...   \n",
       "2         4             3  ['Piscina', 'Elevador', 'Academia', 'Condomíni...   \n",
       "3         3             2  ['Piscina', 'Elevador', 'Academia', 'Playgroun...   \n",
       "4         5             3  ['Elevador', 'Ar-condicionado', 'Salão de fest...   \n",
       "\n",
       "   rent           fee  \n",
       "0   6.0           NaN  \n",
       "1   3.5           NaN  \n",
       "2   5.0    R$ 1.232    \n",
       "3   3.2           NaN  \n",
       "4   6.0           NaN  "
      ]
     },
     "execution_count": 2,
     "metadata": {},
     "output_type": "execute_result"
    }
   ],
   "source": [
    "path = '../scraping/datasets_scraped'\n",
    "all_files = glob.glob(path + \"/*.csv\")\n",
    "\n",
    "li = []\n",
    "\n",
    "for filename in all_files:\n",
    "    frame = pd.read_csv(filename, index_col=None, header=0)\n",
    "    li.append(frame)\n",
    "\n",
    "#concatenating all datasets and removing duplicate rows (there might be duplicate posts)\n",
    "df = pd.concat(li, axis=0, ignore_index=True)\n",
    "df.drop_duplicates(inplace = True)\n",
    "\n",
    "df.head()"
   ]
  },
  {
   "cell_type": "code",
   "execution_count": 3,
   "metadata": {},
   "outputs": [
    {
     "data": {
      "text/plain": [
       "(3689, 9)"
      ]
     },
     "execution_count": 3,
     "metadata": {},
     "output_type": "execute_result"
    }
   ],
   "source": [
    "df.shape"
   ]
  },
  {
   "cell_type": "code",
   "execution_count": 4,
   "metadata": {},
   "outputs": [
    {
     "name": "stdout",
     "output_type": "stream",
     "text": [
      "<class 'pandas.core.frame.DataFrame'>\n",
      "Int64Index: 3689 entries, 0 to 15950\n",
      "Data columns (total 9 columns):\n",
      " #   Column          Non-Null Count  Dtype  \n",
      "---  ------          --------------  -----  \n",
      " 0   title           3689 non-null   object \n",
      " 1   address         3689 non-null   object \n",
      " 2   area            3689 non-null   int64  \n",
      " 3   bathrooms       3689 non-null   object \n",
      " 4   bedrooms        3689 non-null   int64  \n",
      " 5   parking_spots   3689 non-null   object \n",
      " 6   extra_contents  3130 non-null   object \n",
      " 7   rent            3689 non-null   float64\n",
      " 8   fee             1130 non-null   object \n",
      "dtypes: float64(1), int64(2), object(6)\n",
      "memory usage: 288.2+ KB\n"
     ]
    }
   ],
   "source": [
    "df.info()"
   ]
  },
  {
   "cell_type": "markdown",
   "metadata": {},
   "source": [
    "# Data cleaning"
   ]
  },
  {
   "cell_type": "code",
   "execution_count": 5,
   "metadata": {},
   "outputs": [
    {
     "data": {
      "text/plain": [
       "title                0\n",
       "address              0\n",
       "area                 0\n",
       "bathrooms            0\n",
       "bedrooms             0\n",
       "parking_spots        0\n",
       "extra_contents     559\n",
       "rent                 0\n",
       "fee               2559\n",
       "dtype: int64"
      ]
     },
     "execution_count": 5,
     "metadata": {},
     "output_type": "execute_result"
    }
   ],
   "source": [
    "#checking null values in columns\n",
    "df.isna().sum()"
   ]
  },
  {
   "cell_type": "markdown",
   "metadata": {},
   "source": [
    "Here we'll have two different approaches.\n",
    "\n",
    "- For the *extra_contents* column we've already filled the null values with a empty list. That way in the EDA we'll be able to turn those lists into columns. \n",
    "\n",
    "- For the *fee* column we'll fill the NAs with 0, most of the posts that do not contain a fee description also say that the value is already contained in rent."
   ]
  },
  {
   "cell_type": "code",
   "execution_count": 6,
   "metadata": {},
   "outputs": [
    {
     "name": "stderr",
     "output_type": "stream",
     "text": [
      "C:\\Users\\arthu\\AppData\\Roaming\\Python\\Python37\\site-packages\\ipykernel_launcher.py:2: FutureWarning: The default value of regex will change from True to False in a future version. In addition, single character regular expressions will*not* be treated as literal strings when regex=True.\n",
      "  \n"
     ]
    }
   ],
   "source": [
    "#removing currency simbols, filling NAs with 0 and turning column into integer\n",
    "df['fee'] = df['fee'].str.replace('.','').str.replace('$','').str.replace('R','').str.strip().astype(float)\n",
    "df['fee'] = df.fee.fillna(0)\n",
    "df['fee'] = df.fee.astype(int)\n",
    "\n",
    "#turning into integers columns and replacing strings\n",
    "df['bathrooms'] = df.bathrooms.str.replace('--', '0')\n",
    "df['bathrooms'] = df.bathrooms.astype(str).astype(int)\n",
    "df['parking_spots'] = df.parking_spots.str.replace('--', '0')\n",
    "df['parking_spots'] = df.parking_spots.astype(str).astype(int)\n",
    "\n",
    "#filling nas with a empty list and turning string list into list\n",
    "df.extra_contents.fillna('[]', inplace = True)\n",
    "df[\"extra_contents\"] = df[\"extra_contents\"].apply(eval)\n",
    "\n",
    "#correcting the decimal places in the rent column and turning it into integer\n",
    "df['rent'] = df.rent * 1000\n",
    "df['rent'] = df.rent.astype(int)"
   ]
  },
  {
   "cell_type": "code",
   "execution_count": 7,
   "metadata": {},
   "outputs": [
    {
     "data": {
      "text/html": [
       "<div>\n",
       "<style scoped>\n",
       "    .dataframe tbody tr th:only-of-type {\n",
       "        vertical-align: middle;\n",
       "    }\n",
       "\n",
       "    .dataframe tbody tr th {\n",
       "        vertical-align: top;\n",
       "    }\n",
       "\n",
       "    .dataframe thead th {\n",
       "        text-align: right;\n",
       "    }\n",
       "</style>\n",
       "<table border=\"1\" class=\"dataframe\">\n",
       "  <thead>\n",
       "    <tr style=\"text-align: right;\">\n",
       "      <th></th>\n",
       "      <th>title</th>\n",
       "      <th>address</th>\n",
       "      <th>area</th>\n",
       "      <th>bathrooms</th>\n",
       "      <th>bedrooms</th>\n",
       "      <th>parking_spots</th>\n",
       "      <th>extra_contents</th>\n",
       "      <th>rent</th>\n",
       "      <th>fee</th>\n",
       "    </tr>\n",
       "  </thead>\n",
       "  <tbody>\n",
       "    <tr>\n",
       "      <th>0</th>\n",
       "      <td>Apartamento com 3 Quartos para Aluguel, 228m²</td>\n",
       "      <td>Rua dos Navegantes, 215 - Boa Viagem, Recife - PE</td>\n",
       "      <td>228</td>\n",
       "      <td>4</td>\n",
       "      <td>3</td>\n",
       "      <td>1</td>\n",
       "      <td>[]</td>\n",
       "      <td>6000</td>\n",
       "      <td>0</td>\n",
       "    </tr>\n",
       "    <tr>\n",
       "      <th>1</th>\n",
       "      <td>Apartamento com 4 Quartos para Aluguel, 112m²</td>\n",
       "      <td>Rua Baltazar Passos, 260 - Boa Viagem, Recife ...</td>\n",
       "      <td>112</td>\n",
       "      <td>4</td>\n",
       "      <td>4</td>\n",
       "      <td>2</td>\n",
       "      <td>[Piscina, Elevador, Academia, Churrasqueira, P...</td>\n",
       "      <td>3500</td>\n",
       "      <td>0</td>\n",
       "    </tr>\n",
       "    <tr>\n",
       "      <th>2</th>\n",
       "      <td>Apartamento com 4 Quartos para Aluguel, 160m²</td>\n",
       "      <td>Avenida Boa Viagem, 5822 - Boa Viagem, Recife ...</td>\n",
       "      <td>160</td>\n",
       "      <td>5</td>\n",
       "      <td>4</td>\n",
       "      <td>3</td>\n",
       "      <td>[Piscina, Elevador, Academia, Condomínio fecha...</td>\n",
       "      <td>5000</td>\n",
       "      <td>1232</td>\n",
       "    </tr>\n",
       "    <tr>\n",
       "      <th>3</th>\n",
       "      <td>Apartamento com 3 Quartos para Aluguel, 75m²</td>\n",
       "      <td>Tamarineira, Recife - PE</td>\n",
       "      <td>75</td>\n",
       "      <td>3</td>\n",
       "      <td>3</td>\n",
       "      <td>2</td>\n",
       "      <td>[Piscina, Elevador, Academia, Playground, Salã...</td>\n",
       "      <td>3200</td>\n",
       "      <td>0</td>\n",
       "    </tr>\n",
       "    <tr>\n",
       "      <th>4</th>\n",
       "      <td>Apartamento com 5 Quartos para Aluguel, 200m²</td>\n",
       "      <td>Rua Setúbal, 278 - Boa Viagem, Recife - PE</td>\n",
       "      <td>200</td>\n",
       "      <td>5</td>\n",
       "      <td>5</td>\n",
       "      <td>3</td>\n",
       "      <td>[Elevador, Ar-condicionado, Salão de festas, A...</td>\n",
       "      <td>6000</td>\n",
       "      <td>0</td>\n",
       "    </tr>\n",
       "  </tbody>\n",
       "</table>\n",
       "</div>"
      ],
      "text/plain": [
       "                                           title  \\\n",
       "0  Apartamento com 3 Quartos para Aluguel, 228m²   \n",
       "1  Apartamento com 4 Quartos para Aluguel, 112m²   \n",
       "2  Apartamento com 4 Quartos para Aluguel, 160m²   \n",
       "3   Apartamento com 3 Quartos para Aluguel, 75m²   \n",
       "4  Apartamento com 5 Quartos para Aluguel, 200m²   \n",
       "\n",
       "                                             address  area  bathrooms  \\\n",
       "0  Rua dos Navegantes, 215 - Boa Viagem, Recife - PE   228          4   \n",
       "1  Rua Baltazar Passos, 260 - Boa Viagem, Recife ...   112          4   \n",
       "2  Avenida Boa Viagem, 5822 - Boa Viagem, Recife ...   160          5   \n",
       "3                           Tamarineira, Recife - PE    75          3   \n",
       "4         Rua Setúbal, 278 - Boa Viagem, Recife - PE   200          5   \n",
       "\n",
       "   bedrooms  parking_spots                                     extra_contents  \\\n",
       "0         3              1                                                 []   \n",
       "1         4              2  [Piscina, Elevador, Academia, Churrasqueira, P...   \n",
       "2         4              3  [Piscina, Elevador, Academia, Condomínio fecha...   \n",
       "3         3              2  [Piscina, Elevador, Academia, Playground, Salã...   \n",
       "4         5              3  [Elevador, Ar-condicionado, Salão de festas, A...   \n",
       "\n",
       "   rent   fee  \n",
       "0  6000     0  \n",
       "1  3500     0  \n",
       "2  5000  1232  \n",
       "3  3200     0  \n",
       "4  6000     0  "
      ]
     },
     "execution_count": 7,
     "metadata": {},
     "output_type": "execute_result"
    }
   ],
   "source": [
    "df.head()"
   ]
  },
  {
   "cell_type": "code",
   "execution_count": 8,
   "metadata": {},
   "outputs": [
    {
     "name": "stdout",
     "output_type": "stream",
     "text": [
      "<class 'pandas.core.frame.DataFrame'>\n",
      "Int64Index: 3689 entries, 0 to 15950\n",
      "Data columns (total 9 columns):\n",
      " #   Column          Non-Null Count  Dtype \n",
      "---  ------          --------------  ----- \n",
      " 0   title           3689 non-null   object\n",
      " 1   address         3689 non-null   object\n",
      " 2   area            3689 non-null   int64 \n",
      " 3   bathrooms       3689 non-null   int32 \n",
      " 4   bedrooms        3689 non-null   int64 \n",
      " 5   parking_spots   3689 non-null   int32 \n",
      " 6   extra_contents  3689 non-null   object\n",
      " 7   rent            3689 non-null   int32 \n",
      " 8   fee             3689 non-null   int32 \n",
      "dtypes: int32(4), int64(2), object(3)\n",
      "memory usage: 230.6+ KB\n"
     ]
    }
   ],
   "source": [
    "df.info()"
   ]
  },
  {
   "cell_type": "code",
   "execution_count": 9,
   "metadata": {},
   "outputs": [
    {
     "data": {
      "text/plain": [
       "title             0\n",
       "address           0\n",
       "area              0\n",
       "bathrooms         0\n",
       "bedrooms          0\n",
       "parking_spots     0\n",
       "extra_contents    0\n",
       "rent              0\n",
       "fee               0\n",
       "dtype: int64"
      ]
     },
     "execution_count": 9,
     "metadata": {},
     "output_type": "execute_result"
    }
   ],
   "source": [
    "#checking if all nulls were removed\n",
    "df.isna().sum()"
   ]
  },
  {
   "cell_type": "markdown",
   "metadata": {},
   "source": [
    "# Feature engineering"
   ]
  },
  {
   "cell_type": "code",
   "execution_count": 10,
   "metadata": {
    "scrolled": true
   },
   "outputs": [],
   "source": [
    "#defining if a property is a house or a apartment\n",
    "df['property_type'] = df.title.apply(lambda x: x.split()[0].strip().lower())\n",
    "\n",
    "#changing names from Brazilian Portuguese to English\n",
    "df.replace({'property_type' : { 'apartamento' : 'apartment', 'casa' : 'house'}}, inplace = True)"
   ]
  },
  {
   "cell_type": "code",
   "execution_count": 11,
   "metadata": {},
   "outputs": [],
   "source": [
    "#creating geopy objects and function to avoid timeout\n",
    "\n",
    "locator = Nominatim(user_agent = 'myGeocoder')\n",
    "geocode = RateLimiter(locator.geocode, min_delay_seconds=1)\n",
    "\n",
    "#code found on https://gis.stackexchange.com/questions/173569/avoid-time-out-error-nominatim-geopy-openstreetmap\n",
    "def do_geocode(address, attempt=1, max_attempts=5):\n",
    "    try:\n",
    "        return locator.geocode(address, addressdetails=True)\n",
    "    except GeocoderTimedOut:\n",
    "        if attempt <= max_attempts:\n",
    "            return do_geocode(address, attempt=attempt+1)\n",
    "        raise"
   ]
  },
  {
   "cell_type": "code",
   "execution_count": 12,
   "metadata": {
    "scrolled": true
   },
   "outputs": [],
   "source": [
    "#getting location data from geocode\n",
    "df['location'] = df['address'].apply(lambda x: do_geocode(x))"
   ]
  },
  {
   "cell_type": "code",
   "execution_count": 13,
   "metadata": {},
   "outputs": [
    {
     "data": {
      "text/html": [
       "<div>\n",
       "<style scoped>\n",
       "    .dataframe tbody tr th:only-of-type {\n",
       "        vertical-align: middle;\n",
       "    }\n",
       "\n",
       "    .dataframe tbody tr th {\n",
       "        vertical-align: top;\n",
       "    }\n",
       "\n",
       "    .dataframe thead th {\n",
       "        text-align: right;\n",
       "    }\n",
       "</style>\n",
       "<table border=\"1\" class=\"dataframe\">\n",
       "  <thead>\n",
       "    <tr style=\"text-align: right;\">\n",
       "      <th></th>\n",
       "      <th>title</th>\n",
       "      <th>address</th>\n",
       "      <th>area</th>\n",
       "      <th>bathrooms</th>\n",
       "      <th>bedrooms</th>\n",
       "      <th>parking_spots</th>\n",
       "      <th>extra_contents</th>\n",
       "      <th>rent</th>\n",
       "      <th>fee</th>\n",
       "      <th>property_type</th>\n",
       "      <th>location</th>\n",
       "    </tr>\n",
       "  </thead>\n",
       "  <tbody>\n",
       "    <tr>\n",
       "      <th>0</th>\n",
       "      <td>Apartamento com 3 Quartos para Aluguel, 228m²</td>\n",
       "      <td>Rua dos Navegantes, 215 - Boa Viagem, Recife - PE</td>\n",
       "      <td>228</td>\n",
       "      <td>4</td>\n",
       "      <td>3</td>\n",
       "      <td>1</td>\n",
       "      <td>[]</td>\n",
       "      <td>6000</td>\n",
       "      <td>0</td>\n",
       "      <td>apartment</td>\n",
       "      <td>(215, Rua dos Navegantes, Boa Viagem, Recife, ...</td>\n",
       "    </tr>\n",
       "    <tr>\n",
       "      <th>1</th>\n",
       "      <td>Apartamento com 4 Quartos para Aluguel, 112m²</td>\n",
       "      <td>Rua Baltazar Passos, 260 - Boa Viagem, Recife ...</td>\n",
       "      <td>112</td>\n",
       "      <td>4</td>\n",
       "      <td>4</td>\n",
       "      <td>2</td>\n",
       "      <td>[Piscina, Elevador, Academia, Churrasqueira, P...</td>\n",
       "      <td>3500</td>\n",
       "      <td>0</td>\n",
       "      <td>apartment</td>\n",
       "      <td>(260, Rua Baltazar Passos, Boa Viagem, Recife,...</td>\n",
       "    </tr>\n",
       "    <tr>\n",
       "      <th>2</th>\n",
       "      <td>Apartamento com 4 Quartos para Aluguel, 160m²</td>\n",
       "      <td>Avenida Boa Viagem, 5822 - Boa Viagem, Recife ...</td>\n",
       "      <td>160</td>\n",
       "      <td>5</td>\n",
       "      <td>4</td>\n",
       "      <td>3</td>\n",
       "      <td>[Piscina, Elevador, Academia, Condomínio fecha...</td>\n",
       "      <td>5000</td>\n",
       "      <td>1232</td>\n",
       "      <td>apartment</td>\n",
       "      <td>(5822, Avenida Boa Viagem, Boa Viagem, Recife,...</td>\n",
       "    </tr>\n",
       "    <tr>\n",
       "      <th>3</th>\n",
       "      <td>Apartamento com 3 Quartos para Aluguel, 75m²</td>\n",
       "      <td>Tamarineira, Recife - PE</td>\n",
       "      <td>75</td>\n",
       "      <td>3</td>\n",
       "      <td>3</td>\n",
       "      <td>2</td>\n",
       "      <td>[Piscina, Elevador, Academia, Playground, Salã...</td>\n",
       "      <td>3200</td>\n",
       "      <td>0</td>\n",
       "      <td>apartment</td>\n",
       "      <td>(Tamarineira, Recife, Região Geográfica Imedia...</td>\n",
       "    </tr>\n",
       "    <tr>\n",
       "      <th>4</th>\n",
       "      <td>Apartamento com 5 Quartos para Aluguel, 200m²</td>\n",
       "      <td>Rua Setúbal, 278 - Boa Viagem, Recife - PE</td>\n",
       "      <td>200</td>\n",
       "      <td>5</td>\n",
       "      <td>5</td>\n",
       "      <td>3</td>\n",
       "      <td>[Elevador, Ar-condicionado, Salão de festas, A...</td>\n",
       "      <td>6000</td>\n",
       "      <td>0</td>\n",
       "      <td>apartment</td>\n",
       "      <td>(278, Rua Setúbal, Boa Viagem, Recife, Região ...</td>\n",
       "    </tr>\n",
       "  </tbody>\n",
       "</table>\n",
       "</div>"
      ],
      "text/plain": [
       "                                           title  \\\n",
       "0  Apartamento com 3 Quartos para Aluguel, 228m²   \n",
       "1  Apartamento com 4 Quartos para Aluguel, 112m²   \n",
       "2  Apartamento com 4 Quartos para Aluguel, 160m²   \n",
       "3   Apartamento com 3 Quartos para Aluguel, 75m²   \n",
       "4  Apartamento com 5 Quartos para Aluguel, 200m²   \n",
       "\n",
       "                                             address  area  bathrooms  \\\n",
       "0  Rua dos Navegantes, 215 - Boa Viagem, Recife - PE   228          4   \n",
       "1  Rua Baltazar Passos, 260 - Boa Viagem, Recife ...   112          4   \n",
       "2  Avenida Boa Viagem, 5822 - Boa Viagem, Recife ...   160          5   \n",
       "3                           Tamarineira, Recife - PE    75          3   \n",
       "4         Rua Setúbal, 278 - Boa Viagem, Recife - PE   200          5   \n",
       "\n",
       "   bedrooms  parking_spots                                     extra_contents  \\\n",
       "0         3              1                                                 []   \n",
       "1         4              2  [Piscina, Elevador, Academia, Churrasqueira, P...   \n",
       "2         4              3  [Piscina, Elevador, Academia, Condomínio fecha...   \n",
       "3         3              2  [Piscina, Elevador, Academia, Playground, Salã...   \n",
       "4         5              3  [Elevador, Ar-condicionado, Salão de festas, A...   \n",
       "\n",
       "   rent   fee property_type                                           location  \n",
       "0  6000     0     apartment  (215, Rua dos Navegantes, Boa Viagem, Recife, ...  \n",
       "1  3500     0     apartment  (260, Rua Baltazar Passos, Boa Viagem, Recife,...  \n",
       "2  5000  1232     apartment  (5822, Avenida Boa Viagem, Boa Viagem, Recife,...  \n",
       "3  3200     0     apartment  (Tamarineira, Recife, Região Geográfica Imedia...  \n",
       "4  6000     0     apartment  (278, Rua Setúbal, Boa Viagem, Recife, Região ...  "
      ]
     },
     "execution_count": 13,
     "metadata": {},
     "output_type": "execute_result"
    }
   ],
   "source": [
    "df.head()"
   ]
  },
  {
   "cell_type": "code",
   "execution_count": 14,
   "metadata": {
    "scrolled": true
   },
   "outputs": [
    {
     "data": {
      "text/plain": [
       "title               0\n",
       "address             0\n",
       "area                0\n",
       "bathrooms           0\n",
       "bedrooms            0\n",
       "parking_spots       0\n",
       "extra_contents      0\n",
       "rent                0\n",
       "fee                 0\n",
       "property_type       0\n",
       "location          188\n",
       "dtype: int64"
      ]
     },
     "execution_count": 14,
     "metadata": {},
     "output_type": "execute_result"
    }
   ],
   "source": [
    "df.isna().sum()"
   ]
  },
  {
   "cell_type": "markdown",
   "metadata": {},
   "source": [
    "A few posts could not have their location identified by geopy, since we'll need latitude and longitude for our future model, we'll remove these posts."
   ]
  },
  {
   "cell_type": "code",
   "execution_count": 15,
   "metadata": {},
   "outputs": [],
   "source": [
    "#filtering out NAs in location column\n",
    "df = df[df.location.notna()]"
   ]
  },
  {
   "cell_type": "code",
   "execution_count": 16,
   "metadata": {},
   "outputs": [
    {
     "data": {
      "text/plain": [
       "(3501, 11)"
      ]
     },
     "execution_count": 16,
     "metadata": {},
     "output_type": "execute_result"
    }
   ],
   "source": [
    "df.shape"
   ]
  },
  {
   "cell_type": "code",
   "execution_count": 17,
   "metadata": {},
   "outputs": [],
   "source": [
    "#function to verify if there's a key to get out of location column\n",
    "def get_key(x, key):\n",
    "    try:\n",
    "        result = x.raw['address'][key]\n",
    "    except KeyError:\n",
    "        result ='unknown'\n",
    "    return result    "
   ]
  },
  {
   "cell_type": "code",
   "execution_count": 18,
   "metadata": {
    "scrolled": true
   },
   "outputs": [],
   "source": [
    "#getting neighborhood and actual city\n",
    "df['neighborhood'] = df.location.apply(lambda x: get_key(x,'suburb'))\n",
    "df['city'] = df.location.apply(lambda x: get_key(x, 'city'))\n",
    "\n",
    "#getting latitude and longitude\n",
    "df['point'] = df['location'].apply(lambda loc: tuple(loc.point) if loc else None)\n",
    "df[['latitude', 'longitude', 'altitude']] = pd.DataFrame(df['point'].tolist(), index=df.index)\n",
    "\n",
    "#dropping unnecessary columns\n",
    "df.drop(columns = ['location', 'point', 'altitude', 'title', 'address'], inplace = True)\n",
    "\n"
   ]
  },
  {
   "cell_type": "markdown",
   "metadata": {},
   "source": [
    "Note that this project is built using Brazilian real estate market data, which means that \"neighborhood\" is an important information when it comes to addresses. Also we took advantage of the geocoding to get the \"neighborhood\" column since our \"address\" column had some imperfections that would only make it harder to extract the variable.\n",
    "\n",
    "We'll remove cities that are different from Recife, which is the main city for this project. By doing that we'll also be removing neighborhoods classified as \"unknown\", since those are neighborhoods from other cities wrongly classified as Recife's."
   ]
  },
  {
   "cell_type": "code",
   "execution_count": 28,
   "metadata": {},
   "outputs": [
    {
     "data": {
      "text/html": [
       "<div>\n",
       "<style scoped>\n",
       "    .dataframe tbody tr th:only-of-type {\n",
       "        vertical-align: middle;\n",
       "    }\n",
       "\n",
       "    .dataframe tbody tr th {\n",
       "        vertical-align: top;\n",
       "    }\n",
       "\n",
       "    .dataframe thead th {\n",
       "        text-align: right;\n",
       "    }\n",
       "</style>\n",
       "<table border=\"1\" class=\"dataframe\">\n",
       "  <thead>\n",
       "    <tr style=\"text-align: right;\">\n",
       "      <th></th>\n",
       "      <th>area</th>\n",
       "      <th>bathrooms</th>\n",
       "      <th>bedrooms</th>\n",
       "      <th>parking_spots</th>\n",
       "      <th>extra_contents</th>\n",
       "      <th>rent</th>\n",
       "      <th>fee</th>\n",
       "      <th>property_type</th>\n",
       "      <th>neighborhood</th>\n",
       "      <th>city</th>\n",
       "      <th>latitude</th>\n",
       "      <th>longitude</th>\n",
       "    </tr>\n",
       "  </thead>\n",
       "  <tbody>\n",
       "  </tbody>\n",
       "</table>\n",
       "</div>"
      ],
      "text/plain": [
       "Empty DataFrame\n",
       "Columns: [area, bathrooms, bedrooms, parking_spots, extra_contents, rent, fee, property_type, neighborhood, city, latitude, longitude]\n",
       "Index: []"
      ]
     },
     "execution_count": 28,
     "metadata": {},
     "output_type": "execute_result"
    }
   ],
   "source": [
    "#checking \"unknown\" neighborhoods\n",
    "df[df.neighborhood == 'unknown']"
   ]
  },
  {
   "cell_type": "code",
   "execution_count": 23,
   "metadata": {},
   "outputs": [
    {
     "data": {
      "text/plain": [
       "array(['Recife', 'unknown', 'Cabo de Santo Agostinho',\n",
       "       'Jaboatão dos Guararapes', 'Vitória de Santo Antão', 'Olinda',\n",
       "       'Igarassu'], dtype=object)"
      ]
     },
     "execution_count": 23,
     "metadata": {},
     "output_type": "execute_result"
    }
   ],
   "source": [
    "#checking cities in dataset\n",
    "df.city.unique()"
   ]
  },
  {
   "cell_type": "code",
   "execution_count": 24,
   "metadata": {
    "scrolled": true
   },
   "outputs": [
    {
     "data": {
      "text/plain": [
       "array(['Recife'], dtype=object)"
      ]
     },
     "execution_count": 24,
     "metadata": {},
     "output_type": "execute_result"
    }
   ],
   "source": [
    "#filtering only Recife\n",
    "df = df[df.city == 'Recife']\n",
    "df.city.unique()"
   ]
  },
  {
   "cell_type": "code",
   "execution_count": 30,
   "metadata": {},
   "outputs": [],
   "source": [
    "#now we won't need the city column anymore, so we'll remove it\n",
    "df.drop(columns = ['city'], inplace = True)"
   ]
  },
  {
   "cell_type": "code",
   "execution_count": null,
   "metadata": {},
   "outputs": [],
   "source": [
    "#checking if ther's still \"unknown\" neighborhoods\n",
    "df[df.neighborhood == 'unknown']"
   ]
  },
  {
   "cell_type": "code",
   "execution_count": 31,
   "metadata": {},
   "outputs": [
    {
     "data": {
      "text/plain": [
       "(3490, 11)"
      ]
     },
     "execution_count": 31,
     "metadata": {},
     "output_type": "execute_result"
    }
   ],
   "source": [
    "df.shape"
   ]
  },
  {
   "cell_type": "code",
   "execution_count": 33,
   "metadata": {},
   "outputs": [
    {
     "data": {
      "text/html": [
       "<div>\n",
       "<style scoped>\n",
       "    .dataframe tbody tr th:only-of-type {\n",
       "        vertical-align: middle;\n",
       "    }\n",
       "\n",
       "    .dataframe tbody tr th {\n",
       "        vertical-align: top;\n",
       "    }\n",
       "\n",
       "    .dataframe thead th {\n",
       "        text-align: right;\n",
       "    }\n",
       "</style>\n",
       "<table border=\"1\" class=\"dataframe\">\n",
       "  <thead>\n",
       "    <tr style=\"text-align: right;\">\n",
       "      <th></th>\n",
       "      <th>area</th>\n",
       "      <th>bathrooms</th>\n",
       "      <th>bedrooms</th>\n",
       "      <th>parking_spots</th>\n",
       "      <th>extra_contents</th>\n",
       "      <th>rent</th>\n",
       "      <th>fee</th>\n",
       "      <th>property_type</th>\n",
       "      <th>neighborhood</th>\n",
       "      <th>latitude</th>\n",
       "      <th>longitude</th>\n",
       "    </tr>\n",
       "  </thead>\n",
       "  <tbody>\n",
       "    <tr>\n",
       "      <th>0</th>\n",
       "      <td>228</td>\n",
       "      <td>4</td>\n",
       "      <td>3</td>\n",
       "      <td>1</td>\n",
       "      <td>[]</td>\n",
       "      <td>6000</td>\n",
       "      <td>0</td>\n",
       "      <td>apartment</td>\n",
       "      <td>Boa Viagem</td>\n",
       "      <td>-8.130101</td>\n",
       "      <td>-34.900182</td>\n",
       "    </tr>\n",
       "    <tr>\n",
       "      <th>1</th>\n",
       "      <td>112</td>\n",
       "      <td>4</td>\n",
       "      <td>4</td>\n",
       "      <td>2</td>\n",
       "      <td>[Piscina, Elevador, Academia, Churrasqueira, P...</td>\n",
       "      <td>3500</td>\n",
       "      <td>0</td>\n",
       "      <td>apartment</td>\n",
       "      <td>Boa Viagem</td>\n",
       "      <td>-8.143875</td>\n",
       "      <td>-34.907153</td>\n",
       "    </tr>\n",
       "    <tr>\n",
       "      <th>2</th>\n",
       "      <td>160</td>\n",
       "      <td>5</td>\n",
       "      <td>4</td>\n",
       "      <td>3</td>\n",
       "      <td>[Piscina, Elevador, Academia, Condomínio fecha...</td>\n",
       "      <td>5000</td>\n",
       "      <td>1232</td>\n",
       "      <td>apartment</td>\n",
       "      <td>Boa Viagem</td>\n",
       "      <td>-8.139654</td>\n",
       "      <td>-34.903205</td>\n",
       "    </tr>\n",
       "    <tr>\n",
       "      <th>3</th>\n",
       "      <td>75</td>\n",
       "      <td>3</td>\n",
       "      <td>3</td>\n",
       "      <td>2</td>\n",
       "      <td>[Piscina, Elevador, Academia, Playground, Salã...</td>\n",
       "      <td>3200</td>\n",
       "      <td>0</td>\n",
       "      <td>apartment</td>\n",
       "      <td>Tamarineira</td>\n",
       "      <td>-8.032416</td>\n",
       "      <td>-34.901019</td>\n",
       "    </tr>\n",
       "    <tr>\n",
       "      <th>4</th>\n",
       "      <td>200</td>\n",
       "      <td>5</td>\n",
       "      <td>5</td>\n",
       "      <td>3</td>\n",
       "      <td>[Elevador, Ar-condicionado, Salão de festas, A...</td>\n",
       "      <td>6000</td>\n",
       "      <td>0</td>\n",
       "      <td>apartment</td>\n",
       "      <td>Boa Viagem</td>\n",
       "      <td>-8.133530</td>\n",
       "      <td>-34.902099</td>\n",
       "    </tr>\n",
       "  </tbody>\n",
       "</table>\n",
       "</div>"
      ],
      "text/plain": [
       "   area  bathrooms  bedrooms  parking_spots  \\\n",
       "0   228          4         3              1   \n",
       "1   112          4         4              2   \n",
       "2   160          5         4              3   \n",
       "3    75          3         3              2   \n",
       "4   200          5         5              3   \n",
       "\n",
       "                                      extra_contents  rent   fee  \\\n",
       "0                                                 []  6000     0   \n",
       "1  [Piscina, Elevador, Academia, Churrasqueira, P...  3500     0   \n",
       "2  [Piscina, Elevador, Academia, Condomínio fecha...  5000  1232   \n",
       "3  [Piscina, Elevador, Academia, Playground, Salã...  3200     0   \n",
       "4  [Elevador, Ar-condicionado, Salão de festas, A...  6000     0   \n",
       "\n",
       "  property_type neighborhood  latitude  longitude  \n",
       "0     apartment   Boa Viagem -8.130101 -34.900182  \n",
       "1     apartment   Boa Viagem -8.143875 -34.907153  \n",
       "2     apartment   Boa Viagem -8.139654 -34.903205  \n",
       "3     apartment  Tamarineira -8.032416 -34.901019  \n",
       "4     apartment   Boa Viagem -8.133530 -34.902099  "
      ]
     },
     "execution_count": 33,
     "metadata": {},
     "output_type": "execute_result"
    }
   ],
   "source": [
    "df.head()"
   ]
  },
  {
   "cell_type": "code",
   "execution_count": 34,
   "metadata": {},
   "outputs": [],
   "source": [
    "#taking values inside lists on \"extra_contents\" and turning into dummy variables\n",
    "\n",
    "\n",
    "#code found on https://towardsdatascience.com/dealing-with-list-values-in-pandas-dataframes-a177e534f173\n",
    "def to_1D(series):\n",
    " return pd.Series([x for _list in series for x in _list])\n",
    "\n",
    "def boolean_df(item_lists, unique_items):\n",
    "# Create empty dict\n",
    "    bool_dict = {}\n",
    "    \n",
    "    # Loop through all the tags\n",
    "    for i, item in enumerate(unique_items):\n",
    "        \n",
    "        # Apply boolean mask\n",
    "        bool_dict[item] = item_lists.apply(lambda x: item in x)\n",
    "            \n",
    "    # Return the results as a dataframe\n",
    "    return pd.DataFrame(bool_dict)\n",
    "\n",
    "\n",
    "#creating dummy columns for each variable inside the extra_contents column            \n",
    "extra_contents_df = boolean_df(df.extra_contents, to_1D(df.extra_contents)).astype(int)\n",
    "\n",
    "#using pandas concat to add the new column to our dataset\n",
    "df = pd.concat([df, extra_contents_df], axis=1)\n",
    "df.drop(columns = ['extra_contents'], inplace = True)"
   ]
  },
  {
   "cell_type": "code",
   "execution_count": 35,
   "metadata": {},
   "outputs": [
    {
     "data": {
      "text/html": [
       "<div>\n",
       "<style scoped>\n",
       "    .dataframe tbody tr th:only-of-type {\n",
       "        vertical-align: middle;\n",
       "    }\n",
       "\n",
       "    .dataframe tbody tr th {\n",
       "        vertical-align: top;\n",
       "    }\n",
       "\n",
       "    .dataframe thead th {\n",
       "        text-align: right;\n",
       "    }\n",
       "</style>\n",
       "<table border=\"1\" class=\"dataframe\">\n",
       "  <thead>\n",
       "    <tr style=\"text-align: right;\">\n",
       "      <th></th>\n",
       "      <th>area</th>\n",
       "      <th>bathrooms</th>\n",
       "      <th>bedrooms</th>\n",
       "      <th>parking_spots</th>\n",
       "      <th>rent</th>\n",
       "      <th>fee</th>\n",
       "      <th>property_type</th>\n",
       "      <th>neighborhood</th>\n",
       "      <th>latitude</th>\n",
       "      <th>longitude</th>\n",
       "      <th>...</th>\n",
       "      <th>Sala de jantar</th>\n",
       "      <th>Janela de alumínio</th>\n",
       "      <th>Piscina para adulto</th>\n",
       "      <th>Bicicletário</th>\n",
       "      <th>Estacionamento</th>\n",
       "      <th>Acesso para deficientes</th>\n",
       "      <th>Escada</th>\n",
       "      <th>Rampa</th>\n",
       "      <th>Ventilação natural</th>\n",
       "      <th>Imóvel de esquina</th>\n",
       "    </tr>\n",
       "  </thead>\n",
       "  <tbody>\n",
       "    <tr>\n",
       "      <th>0</th>\n",
       "      <td>228</td>\n",
       "      <td>4</td>\n",
       "      <td>3</td>\n",
       "      <td>1</td>\n",
       "      <td>6000</td>\n",
       "      <td>0</td>\n",
       "      <td>apartment</td>\n",
       "      <td>Boa Viagem</td>\n",
       "      <td>-8.130101</td>\n",
       "      <td>-34.900182</td>\n",
       "      <td>...</td>\n",
       "      <td>0</td>\n",
       "      <td>0</td>\n",
       "      <td>0</td>\n",
       "      <td>0</td>\n",
       "      <td>0</td>\n",
       "      <td>0</td>\n",
       "      <td>0</td>\n",
       "      <td>0</td>\n",
       "      <td>0</td>\n",
       "      <td>0</td>\n",
       "    </tr>\n",
       "    <tr>\n",
       "      <th>1</th>\n",
       "      <td>112</td>\n",
       "      <td>4</td>\n",
       "      <td>4</td>\n",
       "      <td>2</td>\n",
       "      <td>3500</td>\n",
       "      <td>0</td>\n",
       "      <td>apartment</td>\n",
       "      <td>Boa Viagem</td>\n",
       "      <td>-8.143875</td>\n",
       "      <td>-34.907153</td>\n",
       "      <td>...</td>\n",
       "      <td>0</td>\n",
       "      <td>0</td>\n",
       "      <td>0</td>\n",
       "      <td>0</td>\n",
       "      <td>0</td>\n",
       "      <td>0</td>\n",
       "      <td>0</td>\n",
       "      <td>0</td>\n",
       "      <td>0</td>\n",
       "      <td>0</td>\n",
       "    </tr>\n",
       "    <tr>\n",
       "      <th>2</th>\n",
       "      <td>160</td>\n",
       "      <td>5</td>\n",
       "      <td>4</td>\n",
       "      <td>3</td>\n",
       "      <td>5000</td>\n",
       "      <td>1232</td>\n",
       "      <td>apartment</td>\n",
       "      <td>Boa Viagem</td>\n",
       "      <td>-8.139654</td>\n",
       "      <td>-34.903205</td>\n",
       "      <td>...</td>\n",
       "      <td>0</td>\n",
       "      <td>0</td>\n",
       "      <td>0</td>\n",
       "      <td>0</td>\n",
       "      <td>0</td>\n",
       "      <td>0</td>\n",
       "      <td>0</td>\n",
       "      <td>0</td>\n",
       "      <td>0</td>\n",
       "      <td>0</td>\n",
       "    </tr>\n",
       "    <tr>\n",
       "      <th>3</th>\n",
       "      <td>75</td>\n",
       "      <td>3</td>\n",
       "      <td>3</td>\n",
       "      <td>2</td>\n",
       "      <td>3200</td>\n",
       "      <td>0</td>\n",
       "      <td>apartment</td>\n",
       "      <td>Tamarineira</td>\n",
       "      <td>-8.032416</td>\n",
       "      <td>-34.901019</td>\n",
       "      <td>...</td>\n",
       "      <td>0</td>\n",
       "      <td>0</td>\n",
       "      <td>0</td>\n",
       "      <td>0</td>\n",
       "      <td>0</td>\n",
       "      <td>0</td>\n",
       "      <td>0</td>\n",
       "      <td>0</td>\n",
       "      <td>0</td>\n",
       "      <td>0</td>\n",
       "    </tr>\n",
       "    <tr>\n",
       "      <th>4</th>\n",
       "      <td>200</td>\n",
       "      <td>5</td>\n",
       "      <td>5</td>\n",
       "      <td>3</td>\n",
       "      <td>6000</td>\n",
       "      <td>0</td>\n",
       "      <td>apartment</td>\n",
       "      <td>Boa Viagem</td>\n",
       "      <td>-8.133530</td>\n",
       "      <td>-34.902099</td>\n",
       "      <td>...</td>\n",
       "      <td>0</td>\n",
       "      <td>0</td>\n",
       "      <td>0</td>\n",
       "      <td>0</td>\n",
       "      <td>0</td>\n",
       "      <td>0</td>\n",
       "      <td>0</td>\n",
       "      <td>0</td>\n",
       "      <td>0</td>\n",
       "      <td>0</td>\n",
       "    </tr>\n",
       "  </tbody>\n",
       "</table>\n",
       "<p>5 rows × 75 columns</p>\n",
       "</div>"
      ],
      "text/plain": [
       "   area  bathrooms  bedrooms  parking_spots  rent   fee property_type  \\\n",
       "0   228          4         3              1  6000     0     apartment   \n",
       "1   112          4         4              2  3500     0     apartment   \n",
       "2   160          5         4              3  5000  1232     apartment   \n",
       "3    75          3         3              2  3200     0     apartment   \n",
       "4   200          5         5              3  6000     0     apartment   \n",
       "\n",
       "  neighborhood  latitude  longitude  ...  Sala de jantar  Janela de alumínio  \\\n",
       "0   Boa Viagem -8.130101 -34.900182  ...               0                   0   \n",
       "1   Boa Viagem -8.143875 -34.907153  ...               0                   0   \n",
       "2   Boa Viagem -8.139654 -34.903205  ...               0                   0   \n",
       "3  Tamarineira -8.032416 -34.901019  ...               0                   0   \n",
       "4   Boa Viagem -8.133530 -34.902099  ...               0                   0   \n",
       "\n",
       "   Piscina para adulto  Bicicletário  Estacionamento   \\\n",
       "0                    0             0                0   \n",
       "1                    0             0                0   \n",
       "2                    0             0                0   \n",
       "3                    0             0                0   \n",
       "4                    0             0                0   \n",
       "\n",
       "   Acesso para deficientes  Escada  Rampa  Ventilação natural  \\\n",
       "0                        0       0      0                   0   \n",
       "1                        0       0      0                   0   \n",
       "2                        0       0      0                   0   \n",
       "3                        0       0      0                   0   \n",
       "4                        0       0      0                   0   \n",
       "\n",
       "   Imóvel de esquina  \n",
       "0                  0  \n",
       "1                  0  \n",
       "2                  0  \n",
       "3                  0  \n",
       "4                  0  \n",
       "\n",
       "[5 rows x 75 columns]"
      ]
     },
     "execution_count": 35,
     "metadata": {},
     "output_type": "execute_result"
    }
   ],
   "source": [
    "df.head()"
   ]
  },
  {
   "cell_type": "code",
   "execution_count": 36,
   "metadata": {},
   "outputs": [
    {
     "data": {
      "text/plain": [
       "Index(['area', 'bathrooms', 'bedrooms', 'parking_spots', 'rent', 'fee',\n",
       "       'property_type', 'neighborhood', 'latitude', 'longitude', 'Piscina',\n",
       "       'Elevador', 'Academia', 'Churrasqueira', 'Playground',\n",
       "       'Condomínio fechado', 'Salão de festas', 'Ar-condicionado',\n",
       "       'Aceita animais', 'Jardim', 'Mobiliado', 'Varanda', 'Cozinha americana',\n",
       "       'Portaria 24h', 'Garagem', 'Cozinha', 'Área de serviço',\n",
       "       'Quadra poliesportiva', 'Armário na cozinha', 'Interfone',\n",
       "       'Circuito de segurança', 'Mais de um andar', 'Segurança 24h',\n",
       "       'Vista para o mar', 'Quintal', 'Sauna', 'TV a cabo',\n",
       "       'Conexão à internet', 'Espaço verde / Parque', 'Salão de jogos',\n",
       "       'Vigia', 'Espaço gourmet', 'Lavanderia', 'Sistema de alarme',\n",
       "       'Gerador elétrico', 'Varanda gourmet', 'Depósito', 'Armário embutido',\n",
       "       'Recepção', 'Copa', 'Vista exterior', 'Móvel planejado',\n",
       "       'Perto de vias de acesso', 'Cinema', 'Escritório', 'Quadra de tênis',\n",
       "       'Closet', 'Pista de cooper', 'Lareira', 'Próximo a escola',\n",
       "       'Próximo a shopping', 'Estacionamento para visitantes', 'Área de lazer',\n",
       "       'Cozinha grande', 'Sala grande', 'Sala de jantar', 'Janela de alumínio',\n",
       "       'Piscina para adulto', 'Bicicletário', 'Estacionamento ',\n",
       "       'Acesso para deficientes', 'Escada', 'Rampa', 'Ventilação natural',\n",
       "       'Imóvel de esquina'],\n",
       "      dtype='object')"
      ]
     },
     "execution_count": 36,
     "metadata": {},
     "output_type": "execute_result"
    }
   ],
   "source": [
    "df.columns"
   ]
  },
  {
   "cell_type": "markdown",
   "metadata": {},
   "source": [
    "We've now added new dummy columns to our dataset using \"extra_contents\" column content in order to better understand the data."
   ]
  },
  {
   "cell_type": "code",
   "execution_count": 37,
   "metadata": {},
   "outputs": [],
   "source": [
    "#summing fee and rent column\n",
    "df['rent'] = df['rent'] + df['fee']\n",
    "df.drop(columns = ['fee'], inplace = True)"
   ]
  },
  {
   "cell_type": "markdown",
   "metadata": {},
   "source": [
    "Most of the cases where the fee column is 0 is because this value is already included in the rent column. That's why we've summed up both columns."
   ]
  },
  {
   "cell_type": "code",
   "execution_count": 38,
   "metadata": {},
   "outputs": [],
   "source": [
    "#naming original columns of our dataframe except for rent\n",
    "original_columns = ['property_type', 'area', 'bathrooms', 'bedrooms', 'parking_spots', \n",
    "       'neighborhood', 'latitude', 'longitude']"
   ]
  },
  {
   "cell_type": "markdown",
   "metadata": {},
   "source": [
    "Now we'll check the correlation of the new dummy columns with the independent variable and try to reduce the amount of columns that we'll use."
   ]
  },
  {
   "cell_type": "code",
   "execution_count": 39,
   "metadata": {
    "scrolled": true
   },
   "outputs": [
    {
     "data": {
      "text/plain": [
       "rent                  1.000000\n",
       "Cozinha               0.247878\n",
       "Piscina               0.197260\n",
       "Área de serviço       0.180409\n",
       "Elevador              0.165110\n",
       "                        ...   \n",
       "Escada                0.003155\n",
       "Salão de jogos        0.003136\n",
       "Rampa                 0.002960\n",
       "Ventilação natural    0.002960\n",
       "Imóvel de esquina     0.002960\n",
       "Name: rent, Length: 66, dtype: float64"
      ]
     },
     "execution_count": 39,
     "metadata": {},
     "output_type": "execute_result"
    }
   ],
   "source": [
    "#checking correlation of new columns to filter the important ones\n",
    "new_columns_corr = abs(df.loc[:, ~df.columns.isin(original_columns)].corr()['rent']).sort_values(ascending = False)\n",
    "new_columns_corr"
   ]
  },
  {
   "cell_type": "code",
   "execution_count": 40,
   "metadata": {},
   "outputs": [
    {
     "name": "stdout",
     "output_type": "stream",
     "text": [
      "Number of new columns: 65\n"
     ]
    }
   ],
   "source": [
    "print('Number of new columns:', len(new_columns_corr) - 1)"
   ]
  },
  {
   "cell_type": "code",
   "execution_count": 41,
   "metadata": {},
   "outputs": [
    {
     "data": {
      "text/plain": [
       "rent               1.000000\n",
       "Cozinha            0.247878\n",
       "Piscina            0.197260\n",
       "Área de serviço    0.180409\n",
       "Elevador           0.165110\n",
       "Name: rent, dtype: float64"
      ]
     },
     "execution_count": 41,
     "metadata": {},
     "output_type": "execute_result"
    }
   ],
   "source": [
    "#Filtering the ones that have correlation above 0.15\n",
    "new_columns_corr[new_columns_corr > 0.15]\n"
   ]
  },
  {
   "cell_type": "code",
   "execution_count": 42,
   "metadata": {},
   "outputs": [],
   "source": [
    "selected_new_columns = list(new_columns_corr[new_columns_corr > 0.15].keys())"
   ]
  },
  {
   "cell_type": "markdown",
   "metadata": {},
   "source": [
    "Now we have 4 new columns that seem to have the best correlation with our independent variable (rent) out of 65 columns. By doing this we avoid that our future model may have too many features, increasing the chance of overfitting."
   ]
  },
  {
   "cell_type": "code",
   "execution_count": 43,
   "metadata": {
    "scrolled": true
   },
   "outputs": [
    {
     "data": {
      "text/html": [
       "<div>\n",
       "<style scoped>\n",
       "    .dataframe tbody tr th:only-of-type {\n",
       "        vertical-align: middle;\n",
       "    }\n",
       "\n",
       "    .dataframe tbody tr th {\n",
       "        vertical-align: top;\n",
       "    }\n",
       "\n",
       "    .dataframe thead th {\n",
       "        text-align: right;\n",
       "    }\n",
       "</style>\n",
       "<table border=\"1\" class=\"dataframe\">\n",
       "  <thead>\n",
       "    <tr style=\"text-align: right;\">\n",
       "      <th></th>\n",
       "      <th>property_type</th>\n",
       "      <th>area</th>\n",
       "      <th>bathrooms</th>\n",
       "      <th>bedrooms</th>\n",
       "      <th>parking_spots</th>\n",
       "      <th>neighborhood</th>\n",
       "      <th>latitude</th>\n",
       "      <th>longitude</th>\n",
       "      <th>rent</th>\n",
       "      <th>Cozinha</th>\n",
       "      <th>Piscina</th>\n",
       "      <th>Área de serviço</th>\n",
       "      <th>Elevador</th>\n",
       "    </tr>\n",
       "  </thead>\n",
       "  <tbody>\n",
       "    <tr>\n",
       "      <th>0</th>\n",
       "      <td>apartment</td>\n",
       "      <td>228</td>\n",
       "      <td>4</td>\n",
       "      <td>3</td>\n",
       "      <td>1</td>\n",
       "      <td>Boa Viagem</td>\n",
       "      <td>-8.130101</td>\n",
       "      <td>-34.900182</td>\n",
       "      <td>6000</td>\n",
       "      <td>0</td>\n",
       "      <td>0</td>\n",
       "      <td>0</td>\n",
       "      <td>0</td>\n",
       "    </tr>\n",
       "    <tr>\n",
       "      <th>1</th>\n",
       "      <td>apartment</td>\n",
       "      <td>112</td>\n",
       "      <td>4</td>\n",
       "      <td>4</td>\n",
       "      <td>2</td>\n",
       "      <td>Boa Viagem</td>\n",
       "      <td>-8.143875</td>\n",
       "      <td>-34.907153</td>\n",
       "      <td>3500</td>\n",
       "      <td>0</td>\n",
       "      <td>1</td>\n",
       "      <td>0</td>\n",
       "      <td>1</td>\n",
       "    </tr>\n",
       "    <tr>\n",
       "      <th>2</th>\n",
       "      <td>apartment</td>\n",
       "      <td>160</td>\n",
       "      <td>5</td>\n",
       "      <td>4</td>\n",
       "      <td>3</td>\n",
       "      <td>Boa Viagem</td>\n",
       "      <td>-8.139654</td>\n",
       "      <td>-34.903205</td>\n",
       "      <td>6232</td>\n",
       "      <td>0</td>\n",
       "      <td>1</td>\n",
       "      <td>0</td>\n",
       "      <td>1</td>\n",
       "    </tr>\n",
       "    <tr>\n",
       "      <th>3</th>\n",
       "      <td>apartment</td>\n",
       "      <td>75</td>\n",
       "      <td>3</td>\n",
       "      <td>3</td>\n",
       "      <td>2</td>\n",
       "      <td>Tamarineira</td>\n",
       "      <td>-8.032416</td>\n",
       "      <td>-34.901019</td>\n",
       "      <td>3200</td>\n",
       "      <td>0</td>\n",
       "      <td>1</td>\n",
       "      <td>0</td>\n",
       "      <td>1</td>\n",
       "    </tr>\n",
       "    <tr>\n",
       "      <th>4</th>\n",
       "      <td>apartment</td>\n",
       "      <td>200</td>\n",
       "      <td>5</td>\n",
       "      <td>5</td>\n",
       "      <td>3</td>\n",
       "      <td>Boa Viagem</td>\n",
       "      <td>-8.133530</td>\n",
       "      <td>-34.902099</td>\n",
       "      <td>6000</td>\n",
       "      <td>0</td>\n",
       "      <td>0</td>\n",
       "      <td>0</td>\n",
       "      <td>1</td>\n",
       "    </tr>\n",
       "    <tr>\n",
       "      <th>...</th>\n",
       "      <td>...</td>\n",
       "      <td>...</td>\n",
       "      <td>...</td>\n",
       "      <td>...</td>\n",
       "      <td>...</td>\n",
       "      <td>...</td>\n",
       "      <td>...</td>\n",
       "      <td>...</td>\n",
       "      <td>...</td>\n",
       "      <td>...</td>\n",
       "      <td>...</td>\n",
       "      <td>...</td>\n",
       "      <td>...</td>\n",
       "    </tr>\n",
       "    <tr>\n",
       "      <th>15229</th>\n",
       "      <td>house</td>\n",
       "      <td>272</td>\n",
       "      <td>3</td>\n",
       "      <td>3</td>\n",
       "      <td>4</td>\n",
       "      <td>Espinheiro</td>\n",
       "      <td>-8.041593</td>\n",
       "      <td>-34.887360</td>\n",
       "      <td>4000</td>\n",
       "      <td>1</td>\n",
       "      <td>0</td>\n",
       "      <td>1</td>\n",
       "      <td>0</td>\n",
       "    </tr>\n",
       "    <tr>\n",
       "      <th>15764</th>\n",
       "      <td>house</td>\n",
       "      <td>189</td>\n",
       "      <td>1</td>\n",
       "      <td>4</td>\n",
       "      <td>2</td>\n",
       "      <td>Boa Viagem</td>\n",
       "      <td>-8.138110</td>\n",
       "      <td>-34.913419</td>\n",
       "      <td>12000</td>\n",
       "      <td>1</td>\n",
       "      <td>1</td>\n",
       "      <td>0</td>\n",
       "      <td>0</td>\n",
       "    </tr>\n",
       "    <tr>\n",
       "      <th>15795</th>\n",
       "      <td>house</td>\n",
       "      <td>480</td>\n",
       "      <td>4</td>\n",
       "      <td>6</td>\n",
       "      <td>5</td>\n",
       "      <td>Graças</td>\n",
       "      <td>-8.038453</td>\n",
       "      <td>-34.900730</td>\n",
       "      <td>12000</td>\n",
       "      <td>0</td>\n",
       "      <td>0</td>\n",
       "      <td>0</td>\n",
       "      <td>0</td>\n",
       "    </tr>\n",
       "    <tr>\n",
       "      <th>15946</th>\n",
       "      <td>apartment</td>\n",
       "      <td>40</td>\n",
       "      <td>1</td>\n",
       "      <td>1</td>\n",
       "      <td>1</td>\n",
       "      <td>Boa Viagem</td>\n",
       "      <td>-8.110973</td>\n",
       "      <td>-34.893948</td>\n",
       "      <td>2120</td>\n",
       "      <td>0</td>\n",
       "      <td>1</td>\n",
       "      <td>0</td>\n",
       "      <td>1</td>\n",
       "    </tr>\n",
       "    <tr>\n",
       "      <th>15950</th>\n",
       "      <td>house</td>\n",
       "      <td>10</td>\n",
       "      <td>2</td>\n",
       "      <td>12</td>\n",
       "      <td>5</td>\n",
       "      <td>Torre</td>\n",
       "      <td>-8.045963</td>\n",
       "      <td>-34.907071</td>\n",
       "      <td>12000</td>\n",
       "      <td>1</td>\n",
       "      <td>0</td>\n",
       "      <td>1</td>\n",
       "      <td>0</td>\n",
       "    </tr>\n",
       "  </tbody>\n",
       "</table>\n",
       "<p>3490 rows × 13 columns</p>\n",
       "</div>"
      ],
      "text/plain": [
       "      property_type  area  bathrooms  bedrooms  parking_spots neighborhood  \\\n",
       "0         apartment   228          4         3              1   Boa Viagem   \n",
       "1         apartment   112          4         4              2   Boa Viagem   \n",
       "2         apartment   160          5         4              3   Boa Viagem   \n",
       "3         apartment    75          3         3              2  Tamarineira   \n",
       "4         apartment   200          5         5              3   Boa Viagem   \n",
       "...             ...   ...        ...       ...            ...          ...   \n",
       "15229         house   272          3         3              4   Espinheiro   \n",
       "15764         house   189          1         4              2   Boa Viagem   \n",
       "15795         house   480          4         6              5       Graças   \n",
       "15946     apartment    40          1         1              1   Boa Viagem   \n",
       "15950         house    10          2        12              5        Torre   \n",
       "\n",
       "       latitude  longitude   rent  Cozinha  Piscina  Área de serviço  Elevador  \n",
       "0     -8.130101 -34.900182   6000        0        0                0         0  \n",
       "1     -8.143875 -34.907153   3500        0        1                0         1  \n",
       "2     -8.139654 -34.903205   6232        0        1                0         1  \n",
       "3     -8.032416 -34.901019   3200        0        1                0         1  \n",
       "4     -8.133530 -34.902099   6000        0        0                0         1  \n",
       "...         ...        ...    ...      ...      ...              ...       ...  \n",
       "15229 -8.041593 -34.887360   4000        1        0                1         0  \n",
       "15764 -8.138110 -34.913419  12000        1        1                0         0  \n",
       "15795 -8.038453 -34.900730  12000        0        0                0         0  \n",
       "15946 -8.110973 -34.893948   2120        0        1                0         1  \n",
       "15950 -8.045963 -34.907071  12000        1        0                1         0  \n",
       "\n",
       "[3490 rows x 13 columns]"
      ]
     },
     "execution_count": 43,
     "metadata": {},
     "output_type": "execute_result"
    }
   ],
   "source": [
    "#putting all chosen columns in a single list\n",
    "selected_columns = original_columns + selected_new_columns\n",
    "\n",
    "#filtering our dataframe\n",
    "df = df[selected_columns]\n",
    "df"
   ]
  },
  {
   "cell_type": "markdown",
   "metadata": {},
   "source": [
    "Since this is a project written in english, we'll rename the columns from Brazilian Portuguese to English."
   ]
  },
  {
   "cell_type": "code",
   "execution_count": 45,
   "metadata": {},
   "outputs": [
    {
     "data": {
      "text/plain": [
       "Index(['property_type', 'area', 'bathrooms', 'bedrooms', 'parking_spots',\n",
       "       'neighborhood', 'latitude', 'longitude', 'rent', 'Cozinha', 'Piscina',\n",
       "       'Área de serviço', 'Elevador'],\n",
       "      dtype='object')"
      ]
     },
     "execution_count": 45,
     "metadata": {},
     "output_type": "execute_result"
    }
   ],
   "source": [
    "#current columns\n",
    "df.columns"
   ]
  },
  {
   "cell_type": "code",
   "execution_count": 46,
   "metadata": {},
   "outputs": [],
   "source": [
    "#renaming columns\n",
    "df.columns = ['property_type', 'area', 'bathrooms', 'bedrooms', 'parking_spots',\n",
    "       'neighborhood', 'latitude', 'longitude', 'rent', 'kitchen', 'pool',\n",
    "       'service_area', 'elevator']"
   ]
  },
  {
   "cell_type": "code",
   "execution_count": 47,
   "metadata": {},
   "outputs": [
    {
     "data": {
      "text/html": [
       "<div>\n",
       "<style scoped>\n",
       "    .dataframe tbody tr th:only-of-type {\n",
       "        vertical-align: middle;\n",
       "    }\n",
       "\n",
       "    .dataframe tbody tr th {\n",
       "        vertical-align: top;\n",
       "    }\n",
       "\n",
       "    .dataframe thead th {\n",
       "        text-align: right;\n",
       "    }\n",
       "</style>\n",
       "<table border=\"1\" class=\"dataframe\">\n",
       "  <thead>\n",
       "    <tr style=\"text-align: right;\">\n",
       "      <th></th>\n",
       "      <th>property_type</th>\n",
       "      <th>area</th>\n",
       "      <th>bathrooms</th>\n",
       "      <th>bedrooms</th>\n",
       "      <th>parking_spots</th>\n",
       "      <th>neighborhood</th>\n",
       "      <th>latitude</th>\n",
       "      <th>longitude</th>\n",
       "      <th>rent</th>\n",
       "      <th>kitchen</th>\n",
       "      <th>pool</th>\n",
       "      <th>service_area</th>\n",
       "      <th>elevator</th>\n",
       "    </tr>\n",
       "  </thead>\n",
       "  <tbody>\n",
       "    <tr>\n",
       "      <th>0</th>\n",
       "      <td>apartment</td>\n",
       "      <td>228</td>\n",
       "      <td>4</td>\n",
       "      <td>3</td>\n",
       "      <td>1</td>\n",
       "      <td>Boa Viagem</td>\n",
       "      <td>-8.130101</td>\n",
       "      <td>-34.900182</td>\n",
       "      <td>6000</td>\n",
       "      <td>0</td>\n",
       "      <td>0</td>\n",
       "      <td>0</td>\n",
       "      <td>0</td>\n",
       "    </tr>\n",
       "    <tr>\n",
       "      <th>1</th>\n",
       "      <td>apartment</td>\n",
       "      <td>112</td>\n",
       "      <td>4</td>\n",
       "      <td>4</td>\n",
       "      <td>2</td>\n",
       "      <td>Boa Viagem</td>\n",
       "      <td>-8.143875</td>\n",
       "      <td>-34.907153</td>\n",
       "      <td>3500</td>\n",
       "      <td>0</td>\n",
       "      <td>1</td>\n",
       "      <td>0</td>\n",
       "      <td>1</td>\n",
       "    </tr>\n",
       "    <tr>\n",
       "      <th>2</th>\n",
       "      <td>apartment</td>\n",
       "      <td>160</td>\n",
       "      <td>5</td>\n",
       "      <td>4</td>\n",
       "      <td>3</td>\n",
       "      <td>Boa Viagem</td>\n",
       "      <td>-8.139654</td>\n",
       "      <td>-34.903205</td>\n",
       "      <td>6232</td>\n",
       "      <td>0</td>\n",
       "      <td>1</td>\n",
       "      <td>0</td>\n",
       "      <td>1</td>\n",
       "    </tr>\n",
       "    <tr>\n",
       "      <th>3</th>\n",
       "      <td>apartment</td>\n",
       "      <td>75</td>\n",
       "      <td>3</td>\n",
       "      <td>3</td>\n",
       "      <td>2</td>\n",
       "      <td>Tamarineira</td>\n",
       "      <td>-8.032416</td>\n",
       "      <td>-34.901019</td>\n",
       "      <td>3200</td>\n",
       "      <td>0</td>\n",
       "      <td>1</td>\n",
       "      <td>0</td>\n",
       "      <td>1</td>\n",
       "    </tr>\n",
       "    <tr>\n",
       "      <th>4</th>\n",
       "      <td>apartment</td>\n",
       "      <td>200</td>\n",
       "      <td>5</td>\n",
       "      <td>5</td>\n",
       "      <td>3</td>\n",
       "      <td>Boa Viagem</td>\n",
       "      <td>-8.133530</td>\n",
       "      <td>-34.902099</td>\n",
       "      <td>6000</td>\n",
       "      <td>0</td>\n",
       "      <td>0</td>\n",
       "      <td>0</td>\n",
       "      <td>1</td>\n",
       "    </tr>\n",
       "  </tbody>\n",
       "</table>\n",
       "</div>"
      ],
      "text/plain": [
       "  property_type  area  bathrooms  bedrooms  parking_spots neighborhood  \\\n",
       "0     apartment   228          4         3              1   Boa Viagem   \n",
       "1     apartment   112          4         4              2   Boa Viagem   \n",
       "2     apartment   160          5         4              3   Boa Viagem   \n",
       "3     apartment    75          3         3              2  Tamarineira   \n",
       "4     apartment   200          5         5              3   Boa Viagem   \n",
       "\n",
       "   latitude  longitude  rent  kitchen  pool  service_area  elevator  \n",
       "0 -8.130101 -34.900182  6000        0     0             0         0  \n",
       "1 -8.143875 -34.907153  3500        0     1             0         1  \n",
       "2 -8.139654 -34.903205  6232        0     1             0         1  \n",
       "3 -8.032416 -34.901019  3200        0     1             0         1  \n",
       "4 -8.133530 -34.902099  6000        0     0             0         1  "
      ]
     },
     "execution_count": 47,
     "metadata": {},
     "output_type": "execute_result"
    }
   ],
   "source": [
    "df.head()"
   ]
  }
 ],
 "metadata": {
  "kernelspec": {
   "display_name": "rental_proj_env",
   "language": "python",
   "name": "rental_proj_env"
  },
  "language_info": {
   "codemirror_mode": {
    "name": "ipython",
    "version": 3
   },
   "file_extension": ".py",
   "mimetype": "text/x-python",
   "name": "python",
   "nbconvert_exporter": "python",
   "pygments_lexer": "ipython3",
   "version": "3.7.6"
  }
 },
 "nbformat": 4,
 "nbformat_minor": 4
}
